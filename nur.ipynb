{
 "cells": [
  {
   "cell_type": "code",
   "execution_count": 1,
   "metadata": {},
   "outputs": [],
   "source": [
    "import pandas as pd"
   ]
  },
  {
   "cell_type": "code",
   "execution_count": 2,
   "metadata": {},
   "outputs": [
    {
     "data": {
      "text/plain": [
       "(231, 7)"
      ]
     },
     "execution_count": 2,
     "metadata": {},
     "output_type": "execute_result"
    }
   ],
   "source": [
    "nur = pd.read_csv(\"dataset/National Universities Rankings.csv\", index_col=0)\n",
    "nur.shape"
   ]
  },
  {
   "cell_type": "markdown",
   "metadata": {},
   "source": [
    "ROUGH OUTLINE\n",
    "1. extract the state short code from location\n",
    "2. extract the year founded from description\n",
    "3. clean up the fees, in-state and enrollment columns\n",
    "4. clean up the columns names\n",
    "\n",
    "* 51 states\n",
    "\n",
    "5. seperate each state schools\n",
    "6. each state will be a table of it's own in the database for database optimization\n",
    "7. create a state table\n",
    "8. can rank school inside each state based on enrollment\n",
    "\n",
    "-- EDA\n",
    "\n",
    "9. Top school based on rank, tuition fees, instate fees, and enrollment\n",
    "10. Top 2 schools within 56 states\n",
    "11. oldest schools based on year founded\n",
    "12. oldest school within 51 states\n",
    "\n",
    "-- App interface\n",
    "\n",
    "13. A brief overview with visuals from top school based on rank (overall)\n",
    "14. selection box to select state. Once selected, brief overview with a visual of the top school in that state.\n",
    "* Overview will include details based on the available data like average tuition and top ranked school.\n",
    "15. Another section where we take in input from the user to recommend a movie within a choosen state.\n",
    "16. If no state is choosen, we recommend based on the user location, and closest state.\n",
    "* For closest state, we can do some resear to know which state is closer to each other (Feature engineering)  \n"
   ]
  },
  {
   "cell_type": "code",
   "execution_count": 3,
   "metadata": {},
   "outputs": [
    {
     "data": {
      "text/html": [
       "<div>\n",
       "<style scoped>\n",
       "    .dataframe tbody tr th:only-of-type {\n",
       "        vertical-align: middle;\n",
       "    }\n",
       "\n",
       "    .dataframe tbody tr th {\n",
       "        vertical-align: top;\n",
       "    }\n",
       "\n",
       "    .dataframe thead th {\n",
       "        text-align: right;\n",
       "    }\n",
       "</style>\n",
       "<table border=\"1\" class=\"dataframe\">\n",
       "  <thead>\n",
       "    <tr style=\"text-align: right;\">\n",
       "      <th></th>\n",
       "      <th>Name</th>\n",
       "      <th>Location</th>\n",
       "      <th>Rank</th>\n",
       "      <th>Description</th>\n",
       "      <th>Tuition and fees</th>\n",
       "      <th>In-state</th>\n",
       "      <th>Undergrad Enrollment</th>\n",
       "    </tr>\n",
       "    <tr>\n",
       "      <th>index</th>\n",
       "      <th></th>\n",
       "      <th></th>\n",
       "      <th></th>\n",
       "      <th></th>\n",
       "      <th></th>\n",
       "      <th></th>\n",
       "      <th></th>\n",
       "    </tr>\n",
       "  </thead>\n",
       "  <tbody>\n",
       "    <tr>\n",
       "      <th>62</th>\n",
       "      <td>University of Connecticut</td>\n",
       "      <td>Storrs, CT</td>\n",
       "      <td>60</td>\n",
       "      <td>The University of Connecticut, located in Stor...</td>\n",
       "      <td>$35,858</td>\n",
       "      <td>$14,066</td>\n",
       "      <td>18,826</td>\n",
       "    </tr>\n",
       "    <tr>\n",
       "      <th>60</th>\n",
       "      <td>Purdue University--West Lafayette</td>\n",
       "      <td>West Lafayette, IN</td>\n",
       "      <td>60</td>\n",
       "      <td>Purdue University's West Lafayette, Indiana, c...</td>\n",
       "      <td>$28,804</td>\n",
       "      <td>$10,002</td>\n",
       "      <td>29,497</td>\n",
       "    </tr>\n",
       "    <tr>\n",
       "      <th>199</th>\n",
       "      <td>University of Colorado--Denver</td>\n",
       "      <td>Denver, CO</td>\n",
       "      <td>197</td>\n",
       "      <td>The main University of Colorado--Denver campus...</td>\n",
       "      <td>$29,334</td>\n",
       "      <td>$10,404</td>\n",
       "      <td>14,036</td>\n",
       "    </tr>\n",
       "    <tr>\n",
       "      <th>225</th>\n",
       "      <td>University of Massachusetts--Boston</td>\n",
       "      <td>Boston, MA</td>\n",
       "      <td>220</td>\n",
       "      <td>Founded in 1964, University of Massachusetts--...</td>\n",
       "      <td>$32,023</td>\n",
       "      <td>$13,435</td>\n",
       "      <td>12,949</td>\n",
       "    </tr>\n",
       "    <tr>\n",
       "      <th>207</th>\n",
       "      <td>University of North Dakota</td>\n",
       "      <td>Grand Forks, ND</td>\n",
       "      <td>202</td>\n",
       "      <td>The University of North Dakota is located in t...</td>\n",
       "      <td>$18,899</td>\n",
       "      <td>$4,965</td>\n",
       "      <td>11,577</td>\n",
       "    </tr>\n",
       "    <tr>\n",
       "      <th>24</th>\n",
       "      <td>University of California--Los Angeles</td>\n",
       "      <td>Los Angeles, CA</td>\n",
       "      <td>24</td>\n",
       "      <td>The University of California--Los Angeles, com...</td>\n",
       "      <td>$39,518</td>\n",
       "      <td>$12,836</td>\n",
       "      <td>29,585</td>\n",
       "    </tr>\n",
       "    <tr>\n",
       "      <th>196</th>\n",
       "      <td>Indiana University-Purdue University--Indianap...</td>\n",
       "      <td>Indianapolis, IN</td>\n",
       "      <td>197</td>\n",
       "      <td>Indiana University-Purdue University Indianapo...</td>\n",
       "      <td>$29,791</td>\n",
       "      <td>$9,205</td>\n",
       "      <td>21,985</td>\n",
       "    </tr>\n",
       "    <tr>\n",
       "      <th>49</th>\n",
       "      <td>Pepperdine University</td>\n",
       "      <td>Malibu, CA</td>\n",
       "      <td>50</td>\n",
       "      <td>Squeezed in among the Santa Monica Mountain fo...</td>\n",
       "      <td>$50,022</td>\n",
       "      <td>NaN</td>\n",
       "      <td>3,533</td>\n",
       "    </tr>\n",
       "    <tr>\n",
       "      <th>185</th>\n",
       "      <td>West Virginia University</td>\n",
       "      <td>Morgantown, WV</td>\n",
       "      <td>183</td>\n",
       "      <td>West Virginia University is a public instituti...</td>\n",
       "      <td>$21,432</td>\n",
       "      <td>$7,632</td>\n",
       "      <td>22,498</td>\n",
       "    </tr>\n",
       "    <tr>\n",
       "      <th>66</th>\n",
       "      <td>Yeshiva University</td>\n",
       "      <td>New York, NY</td>\n",
       "      <td>66</td>\n",
       "      <td>Yeshiva University is Jewish institution in Ne...</td>\n",
       "      <td>$40,670</td>\n",
       "      <td>NaN</td>\n",
       "      <td>2,744</td>\n",
       "    </tr>\n",
       "    <tr>\n",
       "      <th>206</th>\n",
       "      <td>University of North Carolina--Charlotte</td>\n",
       "      <td>Charlotte, NC</td>\n",
       "      <td>202</td>\n",
       "      <td>Founded in 1946, University of North Carolina-...</td>\n",
       "      <td>$20,193</td>\n",
       "      <td>$6,617</td>\n",
       "      <td>22,732</td>\n",
       "    </tr>\n",
       "    <tr>\n",
       "      <th>170</th>\n",
       "      <td>Edgewood College</td>\n",
       "      <td>Madison, WI</td>\n",
       "      <td>171</td>\n",
       "      <td>Edgewood College is a private institution that...</td>\n",
       "      <td>$27,530</td>\n",
       "      <td>NaN</td>\n",
       "      <td>1,813</td>\n",
       "    </tr>\n",
       "    <tr>\n",
       "      <th>215</th>\n",
       "      <td>Northern Illinois University</td>\n",
       "      <td>DeKalb, IL</td>\n",
       "      <td>214</td>\n",
       "      <td>Northern Illinois University is located about ...</td>\n",
       "      <td>$23,799</td>\n",
       "      <td>$14,334</td>\n",
       "      <td>15,027</td>\n",
       "    </tr>\n",
       "    <tr>\n",
       "      <th>116</th>\n",
       "      <td>University of Utah</td>\n",
       "      <td>Salt Lake City, UT</td>\n",
       "      <td>111</td>\n",
       "      <td>The University of Utah, known as the U of U or...</td>\n",
       "      <td>$27,039</td>\n",
       "      <td>$8,518</td>\n",
       "      <td>23,794</td>\n",
       "    </tr>\n",
       "    <tr>\n",
       "      <th>41</th>\n",
       "      <td>Tulane University</td>\n",
       "      <td>New Orleans, LA</td>\n",
       "      <td>39</td>\n",
       "      <td>At Tulane University, located in New Orleans, ...</td>\n",
       "      <td>$51,010</td>\n",
       "      <td>NaN</td>\n",
       "      <td>6,662</td>\n",
       "    </tr>\n",
       "    <tr>\n",
       "      <th>141</th>\n",
       "      <td>University of Mississippi</td>\n",
       "      <td>University, MS</td>\n",
       "      <td>135</td>\n",
       "      <td>The University of Mississippi, better known as...</td>\n",
       "      <td>$22,012</td>\n",
       "      <td>$7,744</td>\n",
       "      <td>18,785</td>\n",
       "    </tr>\n",
       "    <tr>\n",
       "      <th>108</th>\n",
       "      <td>University of San Francisco</td>\n",
       "      <td>San Francisco, CA</td>\n",
       "      <td>107</td>\n",
       "      <td>The University of San Francisco is a Jesuit in...</td>\n",
       "      <td>$44,494</td>\n",
       "      <td>NaN</td>\n",
       "      <td>6,782</td>\n",
       "    </tr>\n",
       "    <tr>\n",
       "      <th>5</th>\n",
       "      <td>Stanford University</td>\n",
       "      <td>Stanford, CA</td>\n",
       "      <td>5</td>\n",
       "      <td>Stanford University's pristine campus is locat...</td>\n",
       "      <td>$47,940</td>\n",
       "      <td>NaN</td>\n",
       "      <td>6,999</td>\n",
       "    </tr>\n",
       "    <tr>\n",
       "      <th>99</th>\n",
       "      <td>Loyola University Chicago</td>\n",
       "      <td>Chicago, IL</td>\n",
       "      <td>99</td>\n",
       "      <td>Loyola University Chicago, or Loyola Chicago, ...</td>\n",
       "      <td>$41,384</td>\n",
       "      <td>NaN</td>\n",
       "      <td>11,079</td>\n",
       "    </tr>\n",
       "    <tr>\n",
       "      <th>25</th>\n",
       "      <td>University of Virginia</td>\n",
       "      <td>Charlottesville, VA</td>\n",
       "      <td>24</td>\n",
       "      <td>Founded by Thomas Jefferson, the University of...</td>\n",
       "      <td>$45,066</td>\n",
       "      <td>$15,722</td>\n",
       "      <td>16,736</td>\n",
       "    </tr>\n",
       "  </tbody>\n",
       "</table>\n",
       "</div>"
      ],
      "text/plain": [
       "                                                    Name             Location  \\\n",
       "index                                                                           \n",
       "62                             University of Connecticut           Storrs, CT   \n",
       "60                     Purdue University--West Lafayette   West Lafayette, IN   \n",
       "199                       University of Colorado--Denver           Denver, CO   \n",
       "225                  University of Massachusetts--Boston           Boston, MA   \n",
       "207                           University of North Dakota      Grand Forks, ND   \n",
       "24                 University of California--Los Angeles      Los Angeles, CA   \n",
       "196    Indiana University-Purdue University--Indianap...     Indianapolis, IN   \n",
       "49                                 Pepperdine University           Malibu, CA   \n",
       "185                             West Virginia University       Morgantown, WV   \n",
       "66                                    Yeshiva University         New York, NY   \n",
       "206              University of North Carolina--Charlotte        Charlotte, NC   \n",
       "170                                     Edgewood College          Madison, WI   \n",
       "215                         Northern Illinois University           DeKalb, IL   \n",
       "116                                   University of Utah   Salt Lake City, UT   \n",
       "41                                     Tulane University      New Orleans, LA   \n",
       "141                            University of Mississippi       University, MS   \n",
       "108                          University of San Francisco    San Francisco, CA   \n",
       "5                                    Stanford University         Stanford, CA   \n",
       "99                             Loyola University Chicago          Chicago, IL   \n",
       "25                                University of Virginia  Charlottesville, VA   \n",
       "\n",
       "       Rank                                        Description  \\\n",
       "index                                                            \n",
       "62       60  The University of Connecticut, located in Stor...   \n",
       "60       60  Purdue University's West Lafayette, Indiana, c...   \n",
       "199     197  The main University of Colorado--Denver campus...   \n",
       "225     220  Founded in 1964, University of Massachusetts--...   \n",
       "207     202  The University of North Dakota is located in t...   \n",
       "24       24  The University of California--Los Angeles, com...   \n",
       "196     197  Indiana University-Purdue University Indianapo...   \n",
       "49       50  Squeezed in among the Santa Monica Mountain fo...   \n",
       "185     183  West Virginia University is a public instituti...   \n",
       "66       66  Yeshiva University is Jewish institution in Ne...   \n",
       "206     202  Founded in 1946, University of North Carolina-...   \n",
       "170     171  Edgewood College is a private institution that...   \n",
       "215     214  Northern Illinois University is located about ...   \n",
       "116     111  The University of Utah, known as the U of U or...   \n",
       "41       39  At Tulane University, located in New Orleans, ...   \n",
       "141     135  The University of Mississippi, better known as...   \n",
       "108     107  The University of San Francisco is a Jesuit in...   \n",
       "5         5  Stanford University's pristine campus is locat...   \n",
       "99       99  Loyola University Chicago, or Loyola Chicago, ...   \n",
       "25       24  Founded by Thomas Jefferson, the University of...   \n",
       "\n",
       "      Tuition and fees  In-state Undergrad Enrollment  \n",
       "index                                                  \n",
       "62            $35,858   $14,066                18,826  \n",
       "60            $28,804   $10,002                29,497  \n",
       "199           $29,334   $10,404                14,036  \n",
       "225           $32,023   $13,435                12,949  \n",
       "207           $18,899    $4,965                11,577  \n",
       "24            $39,518   $12,836                29,585  \n",
       "196           $29,791    $9,205                21,985  \n",
       "49            $50,022        NaN                3,533  \n",
       "185           $21,432    $7,632                22,498  \n",
       "66            $40,670        NaN                2,744  \n",
       "206           $20,193    $6,617                22,732  \n",
       "170           $27,530        NaN                1,813  \n",
       "215           $23,799   $14,334                15,027  \n",
       "116           $27,039    $8,518                23,794  \n",
       "41            $51,010        NaN                6,662  \n",
       "141           $22,012    $7,744                18,785  \n",
       "108           $44,494        NaN                6,782  \n",
       "5             $47,940        NaN                6,999  \n",
       "99            $41,384        NaN               11,079  \n",
       "25            $45,066   $15,722                16,736  "
      ]
     },
     "execution_count": 3,
     "metadata": {},
     "output_type": "execute_result"
    }
   ],
   "source": [
    "nur.sample(20)"
   ]
  },
  {
   "cell_type": "code",
   "execution_count": 4,
   "metadata": {},
   "outputs": [
    {
     "data": {
      "text/plain": [
       "array([' NJ', ' MA', ' IL', ' CT', ' NY', ' CA', ' NC', ' PA', ' MD',\n",
       "       ' NH', ' RI', ' TX', ' IN', ' TN', ' MO', ' GA', ' DC', ' VA',\n",
       "       ' MI', ' OH', ' LA', ' FL', ' WI', ' WA', ' SC', ' UT', ' MN',\n",
       "       ' DE', ' CO', ' IA', ' OK', ' VT', ' AL', ' OR', ' NE', ' KS',\n",
       "       ' AZ', ' KY', ' AR', ' MS', ' HI', ' ID', ' WY', ' NM', ' ME',\n",
       "       ' WV', ' ND', ' NV', ' SD', ' AK', ' MT'], dtype=object)"
      ]
     },
     "execution_count": 4,
     "metadata": {},
     "output_type": "execute_result"
    }
   ],
   "source": [
    "nur['Location'].apply(lambda x: x.split(',')[1]).unique()"
   ]
  },
  {
   "cell_type": "code",
   "execution_count": 5,
   "metadata": {},
   "outputs": [
    {
     "data": {
      "text/plain": [
       "51"
      ]
     },
     "execution_count": 5,
     "metadata": {},
     "output_type": "execute_result"
    }
   ],
   "source": [
    "len(nur['Location'].apply(lambda x: x.split(',')[1]).unique())"
   ]
  },
  {
   "cell_type": "code",
   "execution_count": 6,
   "metadata": {},
   "outputs": [],
   "source": [
    "# # Get the unique values in each column\n",
    "# unique_values = {}\n",
    "# for column in nur.columns:\n",
    "#     unique_values[column] = nur[column].unique()\n",
    "\n",
    "# # Print the unique values\n",
    "# for column, values in unique_values.items():\n",
    "#     print(f\"Unique values in column '{column}':\")\n",
    "#     print(values)\n",
    "#     print()\n"
   ]
  },
  {
   "cell_type": "code",
   "execution_count": 7,
   "metadata": {},
   "outputs": [],
   "source": [
    "df = nur.copy()"
   ]
  },
  {
   "cell_type": "code",
   "execution_count": 8,
   "metadata": {},
   "outputs": [
    {
     "data": {
      "text/html": [
       "<div>\n",
       "<style scoped>\n",
       "    .dataframe tbody tr th:only-of-type {\n",
       "        vertical-align: middle;\n",
       "    }\n",
       "\n",
       "    .dataframe tbody tr th {\n",
       "        vertical-align: top;\n",
       "    }\n",
       "\n",
       "    .dataframe thead th {\n",
       "        text-align: right;\n",
       "    }\n",
       "</style>\n",
       "<table border=\"1\" class=\"dataframe\">\n",
       "  <thead>\n",
       "    <tr style=\"text-align: right;\">\n",
       "      <th></th>\n",
       "      <th>Name</th>\n",
       "      <th>Location</th>\n",
       "      <th>Rank</th>\n",
       "      <th>Description</th>\n",
       "      <th>Tuition and fees</th>\n",
       "      <th>In-state</th>\n",
       "      <th>Undergrad Enrollment</th>\n",
       "    </tr>\n",
       "    <tr>\n",
       "      <th>index</th>\n",
       "      <th></th>\n",
       "      <th></th>\n",
       "      <th></th>\n",
       "      <th></th>\n",
       "      <th></th>\n",
       "      <th></th>\n",
       "      <th></th>\n",
       "    </tr>\n",
       "  </thead>\n",
       "  <tbody>\n",
       "    <tr>\n",
       "      <th>0</th>\n",
       "      <td>Princeton University</td>\n",
       "      <td>Princeton, NJ</td>\n",
       "      <td>1</td>\n",
       "      <td>Princeton, the fourth-oldest college in the Un...</td>\n",
       "      <td>$45,320</td>\n",
       "      <td>NaN</td>\n",
       "      <td>5,402</td>\n",
       "    </tr>\n",
       "    <tr>\n",
       "      <th>1</th>\n",
       "      <td>Harvard University</td>\n",
       "      <td>Cambridge, MA</td>\n",
       "      <td>2</td>\n",
       "      <td>Harvard is located in Cambridge, Massachusetts...</td>\n",
       "      <td>$47,074</td>\n",
       "      <td>NaN</td>\n",
       "      <td>6,699</td>\n",
       "    </tr>\n",
       "    <tr>\n",
       "      <th>2</th>\n",
       "      <td>University of Chicago</td>\n",
       "      <td>Chicago, IL</td>\n",
       "      <td>3</td>\n",
       "      <td>The University of Chicago, situated in Chicago...</td>\n",
       "      <td>$52,491</td>\n",
       "      <td>NaN</td>\n",
       "      <td>5,844</td>\n",
       "    </tr>\n",
       "    <tr>\n",
       "      <th>3</th>\n",
       "      <td>Yale University</td>\n",
       "      <td>New Haven, CT</td>\n",
       "      <td>3</td>\n",
       "      <td>Yale University, located in New Haven, Connect...</td>\n",
       "      <td>$49,480</td>\n",
       "      <td>NaN</td>\n",
       "      <td>5,532</td>\n",
       "    </tr>\n",
       "    <tr>\n",
       "      <th>4</th>\n",
       "      <td>Columbia University</td>\n",
       "      <td>New York, NY</td>\n",
       "      <td>5</td>\n",
       "      <td>Columbia University, located in Manhattan's Mo...</td>\n",
       "      <td>$55,056</td>\n",
       "      <td>NaN</td>\n",
       "      <td>6,102</td>\n",
       "    </tr>\n",
       "  </tbody>\n",
       "</table>\n",
       "</div>"
      ],
      "text/plain": [
       "                        Name       Location  Rank  \\\n",
       "index                                               \n",
       "0       Princeton University  Princeton, NJ     1   \n",
       "1         Harvard University  Cambridge, MA     2   \n",
       "2      University of Chicago    Chicago, IL     3   \n",
       "3            Yale University  New Haven, CT     3   \n",
       "4        Columbia University   New York, NY     5   \n",
       "\n",
       "                                             Description Tuition and fees  \\\n",
       "index                                                                       \n",
       "0      Princeton, the fourth-oldest college in the Un...         $45,320    \n",
       "1      Harvard is located in Cambridge, Massachusetts...         $47,074    \n",
       "2      The University of Chicago, situated in Chicago...         $52,491    \n",
       "3      Yale University, located in New Haven, Connect...         $49,480    \n",
       "4      Columbia University, located in Manhattan's Mo...         $55,056    \n",
       "\n",
       "      In-state Undergrad Enrollment  \n",
       "index                                \n",
       "0          NaN                5,402  \n",
       "1          NaN                6,699  \n",
       "2          NaN                5,844  \n",
       "3          NaN                5,532  \n",
       "4          NaN                6,102  "
      ]
     },
     "execution_count": 8,
     "metadata": {},
     "output_type": "execute_result"
    }
   ],
   "source": [
    "df.head()"
   ]
  },
  {
   "cell_type": "code",
   "execution_count": 9,
   "metadata": {},
   "outputs": [
    {
     "data": {
      "text/plain": [
       "Name                    231\n",
       "Location                192\n",
       "Rank                     63\n",
       "Description             231\n",
       "Tuition and fees        230\n",
       "In-state                132\n",
       "Undergrad Enrollment    230\n",
       "dtype: int64"
      ]
     },
     "execution_count": 9,
     "metadata": {},
     "output_type": "execute_result"
    }
   ],
   "source": [
    "df.nunique()"
   ]
  },
  {
   "cell_type": "markdown",
   "metadata": {},
   "source": [
    "### Data Cleaning"
   ]
  },
  {
   "cell_type": "code",
   "execution_count": 10,
   "metadata": {},
   "outputs": [
    {
     "data": {
      "text/plain": [
       "Name                     0\n",
       "Location                 0\n",
       "Rank                     0\n",
       "Description              0\n",
       "Tuition and fees         0\n",
       "In-state                98\n",
       "Undergrad Enrollment     0\n",
       "dtype: int64"
      ]
     },
     "execution_count": 10,
     "metadata": {},
     "output_type": "execute_result"
    }
   ],
   "source": [
    "df.isnull().sum(axis=0)"
   ]
  },
  {
   "cell_type": "markdown",
   "metadata": {},
   "source": [
    "The in-state column shows the tuition fee for in-sate students therefore we replace missing values here with the mean fee."
   ]
  },
  {
   "cell_type": "code",
   "execution_count": 11,
   "metadata": {},
   "outputs": [
    {
     "data": {
      "text/plain": [
       "array([nan, '$13,509 ', '$12,836 ', '$15,722 ', '$13,856 ', '$8,834 ',\n",
       "       '$18,687 ', '$12,212 ', '$14,022 ', '$14,750 ', '$14,046 ',\n",
       "       '$14,705 ', '$15,698 ', '$10,488 ', '$6,389 ', '$17,900 ',\n",
       "       '$10,037 ', '$10,753 ', '$11,634 ', '$9,806 ', '$10,002 ',\n",
       "       '$14,066 ', '$10,181 ', '$14,240 ', '$18,618 ', '$14,372 ',\n",
       "       '$13,790 ', '$10,176 ', '$12,852 ', '$14,288 ', '$13,559 ',\n",
       "       '$12,520 ', '$17,383 ', '$14,070 ', '$8,325 ', '$9,044 ',\n",
       "       '$10,388 ', '$9,507 ', '$8,880 ', '$11,531 ', '$17,300 ',\n",
       "       '$9,026 ', '$10,696 ', '$7,770 ', '$9,770 ', '$10,470 ',\n",
       "       '$10,762 ', '$12,668 ', '$17,624 ', '$11,854 ', '$7,969 ',\n",
       "       '$9,518 ', '$8,628 ', '$8,065 ', '$8,518 ', '$14,634 ', '$15,688 ',\n",
       "       '$13,581 ', '$10,549 ', '$10,872 ', '$10,158 ', '$11,080 ',\n",
       "       '$11,484 ', '$9,350 ', '$9,842 ', '$16,108 ', '$13,829 ',\n",
       "       '$8,820 ', '$11,000 ', '$7,744 ', '$11,300 ', '$10,366 ',\n",
       "       '$11,041 ', '$11,744 ', '$7,084 ', '$9,124 ', '$12,162 ',\n",
       "       '$13,296 ', '$7,778 ', '$13,262 ', '$13,670 ', '$13,427 ',\n",
       "       '$7,766 ', '$11,264 ', '$12,862 ', '$6,410 ', '$9,628 ',\n",
       "       '$13,076 ', '$11,732 ', '$7,232 ', '$10,738 ', '$5,055 ',\n",
       "       '$9,654 ', '$7,502 ', '$11,771 ', '$10,622 ', '$6,368 ', '$7,071 ',\n",
       "       '$10,628 ', '$7,632 ', '$10,012 ', '$9,046 ', '$10,796 ',\n",
       "       '$10,710 ', '$11,029 ', '$9,205 ', '$9,128 ', '$10,404 ',\n",
       "       '$7,142 ', '$6,436 ', '$12,150 ', '$8,853 ', '$8,172 ', '$7,799 ',\n",
       "       '$6,617 ', '$4,965 ', '$8,457 ', '$6,946 ', '$7,031 ', '$10,048 ',\n",
       "       '$9,551 ', '$14,334 ', '$13,481 ', '$6,446 ', '$6,313 ', '$6,729 ',\n",
       "       '$16,311 ', '$13,435 ', '$12,588 ', '$10,065 ', '$6,733 ',\n",
       "       '$7,224 ', '$6,866 '], dtype=object)"
      ]
     },
     "execution_count": 11,
     "metadata": {},
     "output_type": "execute_result"
    }
   ],
   "source": [
    "df[\"In-state\"].unique()"
   ]
  },
  {
   "cell_type": "code",
   "execution_count": 12,
   "metadata": {},
   "outputs": [
    {
     "data": {
      "text/plain": [
       "Name                    object\n",
       "Location                object\n",
       "Rank                     int64\n",
       "Description             object\n",
       "Tuition and fees        object\n",
       "In-state                object\n",
       "Undergrad Enrollment    object\n",
       "dtype: object"
      ]
     },
     "execution_count": 12,
     "metadata": {},
     "output_type": "execute_result"
    }
   ],
   "source": [
    "df.dtypes"
   ]
  },
  {
   "cell_type": "markdown",
   "metadata": {},
   "source": [
    "The \"Tuition and fees\" and \"In-state\" features are of the wrong data types and carry symbols, \n",
    "* first replace $ signs and commas \n",
    "* Put 0 as placeholder for NaN values\n",
    "* Convert to integer dtype\n",
    "* replace 0's with mean"
   ]
  },
  {
   "cell_type": "code",
   "execution_count": 13,
   "metadata": {},
   "outputs": [
    {
     "data": {
      "text/html": [
       "<div>\n",
       "<style scoped>\n",
       "    .dataframe tbody tr th:only-of-type {\n",
       "        vertical-align: middle;\n",
       "    }\n",
       "\n",
       "    .dataframe tbody tr th {\n",
       "        vertical-align: top;\n",
       "    }\n",
       "\n",
       "    .dataframe thead th {\n",
       "        text-align: right;\n",
       "    }\n",
       "</style>\n",
       "<table border=\"1\" class=\"dataframe\">\n",
       "  <thead>\n",
       "    <tr style=\"text-align: right;\">\n",
       "      <th></th>\n",
       "      <th>Name</th>\n",
       "      <th>Location</th>\n",
       "      <th>Rank</th>\n",
       "      <th>Description</th>\n",
       "      <th>Tuition and fees</th>\n",
       "      <th>In-state</th>\n",
       "      <th>Undergrad Enrollment</th>\n",
       "    </tr>\n",
       "    <tr>\n",
       "      <th>index</th>\n",
       "      <th></th>\n",
       "      <th></th>\n",
       "      <th></th>\n",
       "      <th></th>\n",
       "      <th></th>\n",
       "      <th></th>\n",
       "      <th></th>\n",
       "    </tr>\n",
       "  </thead>\n",
       "  <tbody>\n",
       "    <tr>\n",
       "      <th>66</th>\n",
       "      <td>Yeshiva University</td>\n",
       "      <td>New York, NY</td>\n",
       "      <td>66</td>\n",
       "      <td>Yeshiva University is Jewish institution in Ne...</td>\n",
       "      <td>$40,670</td>\n",
       "      <td>NaN</td>\n",
       "      <td>2,744</td>\n",
       "    </tr>\n",
       "    <tr>\n",
       "      <th>61</th>\n",
       "      <td>Syracuse University</td>\n",
       "      <td>Syracuse, NY</td>\n",
       "      <td>60</td>\n",
       "      <td>Few schools are associated with a color as str...</td>\n",
       "      <td>$45,022</td>\n",
       "      <td>NaN</td>\n",
       "      <td>15,196</td>\n",
       "    </tr>\n",
       "    <tr>\n",
       "      <th>71</th>\n",
       "      <td>Stevens Institute of Technology</td>\n",
       "      <td>Hoboken, NJ</td>\n",
       "      <td>71</td>\n",
       "      <td>Innovation and entrepreneurship is stressed at...</td>\n",
       "      <td>$48,838</td>\n",
       "      <td>NaN</td>\n",
       "      <td>2,873</td>\n",
       "    </tr>\n",
       "    <tr>\n",
       "      <th>143</th>\n",
       "      <td>Oregon State University</td>\n",
       "      <td>Corvallis, OR</td>\n",
       "      <td>143</td>\n",
       "      <td>Oregon State University is located in Corvalli...</td>\n",
       "      <td>$28,846</td>\n",
       "      <td>$10,366</td>\n",
       "      <td>24,612</td>\n",
       "    </tr>\n",
       "    <tr>\n",
       "      <th>220</th>\n",
       "      <td>California State University--Fresno</td>\n",
       "      <td>Fresno, CA</td>\n",
       "      <td>220</td>\n",
       "      <td>California State University--Fresno is located...</td>\n",
       "      <td>$17,209</td>\n",
       "      <td>$6,313</td>\n",
       "      <td>21,482</td>\n",
       "    </tr>\n",
       "  </tbody>\n",
       "</table>\n",
       "</div>"
      ],
      "text/plain": [
       "                                      Name       Location  Rank  \\\n",
       "index                                                             \n",
       "66                      Yeshiva University   New York, NY    66   \n",
       "61                     Syracuse University   Syracuse, NY    60   \n",
       "71         Stevens Institute of Technology    Hoboken, NJ    71   \n",
       "143                Oregon State University  Corvallis, OR   143   \n",
       "220    California State University--Fresno     Fresno, CA   220   \n",
       "\n",
       "                                             Description Tuition and fees  \\\n",
       "index                                                                       \n",
       "66     Yeshiva University is Jewish institution in Ne...         $40,670    \n",
       "61     Few schools are associated with a color as str...         $45,022    \n",
       "71     Innovation and entrepreneurship is stressed at...         $48,838    \n",
       "143    Oregon State University is located in Corvalli...         $28,846    \n",
       "220    California State University--Fresno is located...         $17,209    \n",
       "\n",
       "       In-state Undergrad Enrollment  \n",
       "index                                 \n",
       "66          NaN                2,744  \n",
       "61          NaN               15,196  \n",
       "71          NaN                2,873  \n",
       "143    $10,366                24,612  \n",
       "220     $6,313                21,482  "
      ]
     },
     "execution_count": 13,
     "metadata": {},
     "output_type": "execute_result"
    }
   ],
   "source": [
    "df.sample(5)"
   ]
  },
  {
   "cell_type": "code",
   "execution_count": 14,
   "metadata": {},
   "outputs": [],
   "source": [
    "# Remove the dollar sign ($) and commas\n",
    "df['Tuition and fees'] = df['Tuition and fees'].str.strip('$')\n",
    "df['In-state'] = df['In-state'].str.strip('$')\n",
    "\n",
    "\n",
    "df[\"Undergrad Enrollment\"] = df[\"Undergrad Enrollment\"].str.replace(',', '')\n",
    "df['Tuition and fees'] = df['Tuition and fees'].str.replace(',', '')\n",
    "df['In-state'] = df['In-state'].str.replace(',', '')"
   ]
  },
  {
   "cell_type": "code",
   "execution_count": 15,
   "metadata": {},
   "outputs": [
    {
     "data": {
      "text/html": [
       "<div>\n",
       "<style scoped>\n",
       "    .dataframe tbody tr th:only-of-type {\n",
       "        vertical-align: middle;\n",
       "    }\n",
       "\n",
       "    .dataframe tbody tr th {\n",
       "        vertical-align: top;\n",
       "    }\n",
       "\n",
       "    .dataframe thead th {\n",
       "        text-align: right;\n",
       "    }\n",
       "</style>\n",
       "<table border=\"1\" class=\"dataframe\">\n",
       "  <thead>\n",
       "    <tr style=\"text-align: right;\">\n",
       "      <th></th>\n",
       "      <th>Name</th>\n",
       "      <th>Location</th>\n",
       "      <th>Rank</th>\n",
       "      <th>Description</th>\n",
       "      <th>Tuition and fees</th>\n",
       "      <th>In-state</th>\n",
       "      <th>Undergrad Enrollment</th>\n",
       "    </tr>\n",
       "    <tr>\n",
       "      <th>index</th>\n",
       "      <th></th>\n",
       "      <th></th>\n",
       "      <th></th>\n",
       "      <th></th>\n",
       "      <th></th>\n",
       "      <th></th>\n",
       "      <th></th>\n",
       "    </tr>\n",
       "  </thead>\n",
       "  <tbody>\n",
       "    <tr>\n",
       "      <th>0</th>\n",
       "      <td>Princeton University</td>\n",
       "      <td>Princeton, NJ</td>\n",
       "      <td>1</td>\n",
       "      <td>Princeton, the fourth-oldest college in the Un...</td>\n",
       "      <td>45320</td>\n",
       "      <td>NaN</td>\n",
       "      <td>5402</td>\n",
       "    </tr>\n",
       "    <tr>\n",
       "      <th>1</th>\n",
       "      <td>Harvard University</td>\n",
       "      <td>Cambridge, MA</td>\n",
       "      <td>2</td>\n",
       "      <td>Harvard is located in Cambridge, Massachusetts...</td>\n",
       "      <td>47074</td>\n",
       "      <td>NaN</td>\n",
       "      <td>6699</td>\n",
       "    </tr>\n",
       "    <tr>\n",
       "      <th>2</th>\n",
       "      <td>University of Chicago</td>\n",
       "      <td>Chicago, IL</td>\n",
       "      <td>3</td>\n",
       "      <td>The University of Chicago, situated in Chicago...</td>\n",
       "      <td>52491</td>\n",
       "      <td>NaN</td>\n",
       "      <td>5844</td>\n",
       "    </tr>\n",
       "    <tr>\n",
       "      <th>3</th>\n",
       "      <td>Yale University</td>\n",
       "      <td>New Haven, CT</td>\n",
       "      <td>3</td>\n",
       "      <td>Yale University, located in New Haven, Connect...</td>\n",
       "      <td>49480</td>\n",
       "      <td>NaN</td>\n",
       "      <td>5532</td>\n",
       "    </tr>\n",
       "    <tr>\n",
       "      <th>4</th>\n",
       "      <td>Columbia University</td>\n",
       "      <td>New York, NY</td>\n",
       "      <td>5</td>\n",
       "      <td>Columbia University, located in Manhattan's Mo...</td>\n",
       "      <td>55056</td>\n",
       "      <td>NaN</td>\n",
       "      <td>6102</td>\n",
       "    </tr>\n",
       "  </tbody>\n",
       "</table>\n",
       "</div>"
      ],
      "text/plain": [
       "                        Name       Location  Rank  \\\n",
       "index                                               \n",
       "0       Princeton University  Princeton, NJ     1   \n",
       "1         Harvard University  Cambridge, MA     2   \n",
       "2      University of Chicago    Chicago, IL     3   \n",
       "3            Yale University  New Haven, CT     3   \n",
       "4        Columbia University   New York, NY     5   \n",
       "\n",
       "                                             Description Tuition and fees  \\\n",
       "index                                                                       \n",
       "0      Princeton, the fourth-oldest college in the Un...           45320    \n",
       "1      Harvard is located in Cambridge, Massachusetts...           47074    \n",
       "2      The University of Chicago, situated in Chicago...           52491    \n",
       "3      Yale University, located in New Haven, Connect...           49480    \n",
       "4      Columbia University, located in Manhattan's Mo...           55056    \n",
       "\n",
       "      In-state Undergrad Enrollment  \n",
       "index                                \n",
       "0          NaN                 5402  \n",
       "1          NaN                 6699  \n",
       "2          NaN                 5844  \n",
       "3          NaN                 5532  \n",
       "4          NaN                 6102  "
      ]
     },
     "execution_count": 15,
     "metadata": {},
     "output_type": "execute_result"
    }
   ],
   "source": [
    "df.head()"
   ]
  },
  {
   "cell_type": "code",
   "execution_count": 16,
   "metadata": {},
   "outputs": [
    {
     "data": {
      "text/plain": [
       "Name                    object\n",
       "Location                object\n",
       "Rank                     int64\n",
       "Description             object\n",
       "Tuition and fees        object\n",
       "In-state                object\n",
       "Undergrad Enrollment    object\n",
       "dtype: object"
      ]
     },
     "execution_count": 16,
     "metadata": {},
     "output_type": "execute_result"
    }
   ],
   "source": [
    "df.dtypes"
   ]
  },
  {
   "cell_type": "code",
   "execution_count": 17,
   "metadata": {},
   "outputs": [],
   "source": [
    "# convert the column datatype to integer\n",
    "df['In-state'] = df['In-state'].fillna('0').astype(int)\n",
    "df[\"Undergrad Enrollment\"] = df[\"Undergrad Enrollment\"].astype(int)"
   ]
  },
  {
   "cell_type": "code",
   "execution_count": 18,
   "metadata": {},
   "outputs": [
    {
     "data": {
      "text/plain": [
       "6273"
      ]
     },
     "execution_count": 18,
     "metadata": {},
     "output_type": "execute_result"
    }
   ],
   "source": [
    "mean_instate = int(df[\"In-state\"].mean())\n",
    "mean_instate"
   ]
  },
  {
   "cell_type": "code",
   "execution_count": 19,
   "metadata": {},
   "outputs": [
    {
     "data": {
      "text/plain": [
       "0"
      ]
     },
     "execution_count": 19,
     "metadata": {},
     "output_type": "execute_result"
    }
   ],
   "source": [
    "df['In-state'] = df['In-state'].replace(0, mean_instate)\n",
    "df['In-state'].isna().sum()"
   ]
  },
  {
   "cell_type": "code",
   "execution_count": 20,
   "metadata": {},
   "outputs": [
    {
     "data": {
      "text/plain": [
       "array([ 6273, 13509, 12836, 15722, 13856,  8834, 18687, 12212, 14022,\n",
       "       14750, 14046, 14705, 15698, 10488,  6389, 17900, 10037, 10753,\n",
       "       11634,  9806, 10002, 14066, 10181, 14240, 18618, 14372, 13790,\n",
       "       10176, 12852, 14288, 13559, 12520, 17383, 14070,  8325,  9044,\n",
       "       10388,  9507,  8880, 11531, 17300,  9026, 10696,  7770,  9770,\n",
       "       10470, 10762, 12668, 17624, 11854,  7969,  9518,  8628,  8065,\n",
       "        8518, 14634, 15688, 13581, 10549, 10872, 10158, 11080, 11484,\n",
       "        9350,  9842, 16108, 13829,  8820, 11000,  7744, 11300, 10366,\n",
       "       11041, 11744,  7084,  9124, 12162, 13296,  7778, 13262, 13670,\n",
       "       13427,  7766, 11264, 12862,  6410,  9628, 13076, 11732,  7232,\n",
       "       10738,  5055,  9654,  7502, 11771, 10622,  6368,  7071, 10628,\n",
       "        7632, 10012,  9046, 10796, 10710, 11029,  9205,  9128, 10404,\n",
       "        7142,  6436, 12150,  8853,  8172,  7799,  6617,  4965,  8457,\n",
       "        6946,  7031, 10048,  9551, 14334, 13481,  6446,  6313,  6729,\n",
       "       16311, 13435, 12588, 10065,  6733,  7224,  6866])"
      ]
     },
     "execution_count": 20,
     "metadata": {},
     "output_type": "execute_result"
    }
   ],
   "source": [
    "df[\"In-state\"].unique()"
   ]
  },
  {
   "cell_type": "code",
   "execution_count": 21,
   "metadata": {},
   "outputs": [
    {
     "data": {
      "text/plain": [
       "Name                    98\n",
       "Location                98\n",
       "Rank                    98\n",
       "Description             98\n",
       "Tuition and fees        98\n",
       "In-state                98\n",
       "Undergrad Enrollment    98\n",
       "dtype: int64"
      ]
     },
     "execution_count": 21,
     "metadata": {},
     "output_type": "execute_result"
    }
   ],
   "source": [
    "# Confirming that only 98 values were replaced with the mean\n",
    "df[df[\"In-state\"]==6273].count()"
   ]
  },
  {
   "cell_type": "code",
   "execution_count": 22,
   "metadata": {},
   "outputs": [
    {
     "data": {
      "text/plain": [
       "Name                    object\n",
       "Location                object\n",
       "Rank                     int64\n",
       "Description             object\n",
       "Tuition and fees        object\n",
       "In-state                 int64\n",
       "Undergrad Enrollment     int64\n",
       "dtype: object"
      ]
     },
     "execution_count": 22,
     "metadata": {},
     "output_type": "execute_result"
    }
   ],
   "source": [
    "df.dtypes"
   ]
  },
  {
   "cell_type": "code",
   "execution_count": 23,
   "metadata": {},
   "outputs": [
    {
     "data": {
      "text/plain": [
       "dtype('int64')"
      ]
     },
     "execution_count": 23,
     "metadata": {},
     "output_type": "execute_result"
    }
   ],
   "source": [
    "df[\"Tuition and fees\"] = df[\"Tuition and fees\"].astype(int)\n",
    "df[\"Tuition and fees\"].dtype"
   ]
  },
  {
   "cell_type": "code",
   "execution_count": 24,
   "metadata": {},
   "outputs": [
    {
     "data": {
      "text/html": [
       "<div>\n",
       "<style scoped>\n",
       "    .dataframe tbody tr th:only-of-type {\n",
       "        vertical-align: middle;\n",
       "    }\n",
       "\n",
       "    .dataframe tbody tr th {\n",
       "        vertical-align: top;\n",
       "    }\n",
       "\n",
       "    .dataframe thead th {\n",
       "        text-align: right;\n",
       "    }\n",
       "</style>\n",
       "<table border=\"1\" class=\"dataframe\">\n",
       "  <thead>\n",
       "    <tr style=\"text-align: right;\">\n",
       "      <th></th>\n",
       "      <th>Name</th>\n",
       "      <th>Location</th>\n",
       "      <th>Rank</th>\n",
       "      <th>Description</th>\n",
       "      <th>Tuition and fees</th>\n",
       "      <th>In-state</th>\n",
       "      <th>Undergrad Enrollment</th>\n",
       "    </tr>\n",
       "    <tr>\n",
       "      <th>index</th>\n",
       "      <th></th>\n",
       "      <th></th>\n",
       "      <th></th>\n",
       "      <th></th>\n",
       "      <th></th>\n",
       "      <th></th>\n",
       "      <th></th>\n",
       "    </tr>\n",
       "  </thead>\n",
       "  <tbody>\n",
       "    <tr>\n",
       "      <th>44</th>\n",
       "      <td>University of California--Davis</td>\n",
       "      <td>Davis, CA</td>\n",
       "      <td>44</td>\n",
       "      <td>The University of California--Davis, one of 10...</td>\n",
       "      <td>40728</td>\n",
       "      <td>14046</td>\n",
       "      <td>28384</td>\n",
       "    </tr>\n",
       "    <tr>\n",
       "      <th>141</th>\n",
       "      <td>University of Mississippi</td>\n",
       "      <td>University, MS</td>\n",
       "      <td>135</td>\n",
       "      <td>The University of Mississippi, better known as...</td>\n",
       "      <td>22012</td>\n",
       "      <td>7744</td>\n",
       "      <td>18785</td>\n",
       "    </tr>\n",
       "    <tr>\n",
       "      <th>9</th>\n",
       "      <td>Johns Hopkins University</td>\n",
       "      <td>Baltimore, MD</td>\n",
       "      <td>10</td>\n",
       "      <td>Johns Hopkins University has four main campuse...</td>\n",
       "      <td>50410</td>\n",
       "      <td>6273</td>\n",
       "      <td>6524</td>\n",
       "    </tr>\n",
       "    <tr>\n",
       "      <th>190</th>\n",
       "      <td>Robert Morris University</td>\n",
       "      <td>Moon Township, PA</td>\n",
       "      <td>188</td>\n",
       "      <td>Founded in 1921, Robert Morris University is a...</td>\n",
       "      <td>28250</td>\n",
       "      <td>6273</td>\n",
       "      <td>4497</td>\n",
       "    </tr>\n",
       "    <tr>\n",
       "      <th>132</th>\n",
       "      <td>Hofstra University</td>\n",
       "      <td>Hempstead, NY</td>\n",
       "      <td>133</td>\n",
       "      <td>With its location on Long Island, New York, Ho...</td>\n",
       "      <td>42160</td>\n",
       "      <td>6273</td>\n",
       "      <td>6824</td>\n",
       "    </tr>\n",
       "  </tbody>\n",
       "</table>\n",
       "</div>"
      ],
      "text/plain": [
       "                                  Name           Location  Rank  \\\n",
       "index                                                             \n",
       "44     University of California--Davis          Davis, CA    44   \n",
       "141          University of Mississippi     University, MS   135   \n",
       "9             Johns Hopkins University      Baltimore, MD    10   \n",
       "190           Robert Morris University  Moon Township, PA   188   \n",
       "132                 Hofstra University      Hempstead, NY   133   \n",
       "\n",
       "                                             Description  Tuition and fees  \\\n",
       "index                                                                        \n",
       "44     The University of California--Davis, one of 10...             40728   \n",
       "141    The University of Mississippi, better known as...             22012   \n",
       "9      Johns Hopkins University has four main campuse...             50410   \n",
       "190    Founded in 1921, Robert Morris University is a...             28250   \n",
       "132    With its location on Long Island, New York, Ho...             42160   \n",
       "\n",
       "       In-state  Undergrad Enrollment  \n",
       "index                                  \n",
       "44        14046                 28384  \n",
       "141        7744                 18785  \n",
       "9          6273                  6524  \n",
       "190        6273                  4497  \n",
       "132        6273                  6824  "
      ]
     },
     "execution_count": 24,
     "metadata": {},
     "output_type": "execute_result"
    }
   ],
   "source": [
    "df.sample(5)"
   ]
  },
  {
   "cell_type": "markdown",
   "metadata": {},
   "source": [
    "### Feature Engineering"
   ]
  },
  {
   "cell_type": "code",
   "execution_count": 25,
   "metadata": {},
   "outputs": [
    {
     "data": {
      "text/html": [
       "<div>\n",
       "<style scoped>\n",
       "    .dataframe tbody tr th:only-of-type {\n",
       "        vertical-align: middle;\n",
       "    }\n",
       "\n",
       "    .dataframe tbody tr th {\n",
       "        vertical-align: top;\n",
       "    }\n",
       "\n",
       "    .dataframe thead th {\n",
       "        text-align: right;\n",
       "    }\n",
       "</style>\n",
       "<table border=\"1\" class=\"dataframe\">\n",
       "  <thead>\n",
       "    <tr style=\"text-align: right;\">\n",
       "      <th></th>\n",
       "      <th>Name</th>\n",
       "      <th>Location</th>\n",
       "      <th>Rank</th>\n",
       "      <th>Description</th>\n",
       "      <th>Tuition and fees</th>\n",
       "      <th>In-state</th>\n",
       "      <th>Undergrad Enrollment</th>\n",
       "      <th>State</th>\n",
       "      <th>State Code</th>\n",
       "    </tr>\n",
       "    <tr>\n",
       "      <th>index</th>\n",
       "      <th></th>\n",
       "      <th></th>\n",
       "      <th></th>\n",
       "      <th></th>\n",
       "      <th></th>\n",
       "      <th></th>\n",
       "      <th></th>\n",
       "      <th></th>\n",
       "      <th></th>\n",
       "    </tr>\n",
       "  </thead>\n",
       "  <tbody>\n",
       "    <tr>\n",
       "      <th>0</th>\n",
       "      <td>Princeton University</td>\n",
       "      <td>Princeton, NJ</td>\n",
       "      <td>1</td>\n",
       "      <td>Princeton, the fourth-oldest college in the Un...</td>\n",
       "      <td>45320</td>\n",
       "      <td>6273</td>\n",
       "      <td>5402</td>\n",
       "      <td>Princeton</td>\n",
       "      <td>NJ</td>\n",
       "    </tr>\n",
       "    <tr>\n",
       "      <th>1</th>\n",
       "      <td>Harvard University</td>\n",
       "      <td>Cambridge, MA</td>\n",
       "      <td>2</td>\n",
       "      <td>Harvard is located in Cambridge, Massachusetts...</td>\n",
       "      <td>47074</td>\n",
       "      <td>6273</td>\n",
       "      <td>6699</td>\n",
       "      <td>Cambridge</td>\n",
       "      <td>MA</td>\n",
       "    </tr>\n",
       "    <tr>\n",
       "      <th>2</th>\n",
       "      <td>University of Chicago</td>\n",
       "      <td>Chicago, IL</td>\n",
       "      <td>3</td>\n",
       "      <td>The University of Chicago, situated in Chicago...</td>\n",
       "      <td>52491</td>\n",
       "      <td>6273</td>\n",
       "      <td>5844</td>\n",
       "      <td>Chicago</td>\n",
       "      <td>IL</td>\n",
       "    </tr>\n",
       "    <tr>\n",
       "      <th>3</th>\n",
       "      <td>Yale University</td>\n",
       "      <td>New Haven, CT</td>\n",
       "      <td>3</td>\n",
       "      <td>Yale University, located in New Haven, Connect...</td>\n",
       "      <td>49480</td>\n",
       "      <td>6273</td>\n",
       "      <td>5532</td>\n",
       "      <td>New Haven</td>\n",
       "      <td>CT</td>\n",
       "    </tr>\n",
       "    <tr>\n",
       "      <th>4</th>\n",
       "      <td>Columbia University</td>\n",
       "      <td>New York, NY</td>\n",
       "      <td>5</td>\n",
       "      <td>Columbia University, located in Manhattan's Mo...</td>\n",
       "      <td>55056</td>\n",
       "      <td>6273</td>\n",
       "      <td>6102</td>\n",
       "      <td>New York</td>\n",
       "      <td>NY</td>\n",
       "    </tr>\n",
       "  </tbody>\n",
       "</table>\n",
       "</div>"
      ],
      "text/plain": [
       "                        Name       Location  Rank  \\\n",
       "index                                               \n",
       "0       Princeton University  Princeton, NJ     1   \n",
       "1         Harvard University  Cambridge, MA     2   \n",
       "2      University of Chicago    Chicago, IL     3   \n",
       "3            Yale University  New Haven, CT     3   \n",
       "4        Columbia University   New York, NY     5   \n",
       "\n",
       "                                             Description  Tuition and fees  \\\n",
       "index                                                                        \n",
       "0      Princeton, the fourth-oldest college in the Un...             45320   \n",
       "1      Harvard is located in Cambridge, Massachusetts...             47074   \n",
       "2      The University of Chicago, situated in Chicago...             52491   \n",
       "3      Yale University, located in New Haven, Connect...             49480   \n",
       "4      Columbia University, located in Manhattan's Mo...             55056   \n",
       "\n",
       "       In-state  Undergrad Enrollment      State State Code  \n",
       "index                                                        \n",
       "0          6273                  5402  Princeton         NJ  \n",
       "1          6273                  6699  Cambridge         MA  \n",
       "2          6273                  5844    Chicago         IL  \n",
       "3          6273                  5532  New Haven         CT  \n",
       "4          6273                  6102   New York         NY  "
      ]
     },
     "execution_count": 25,
     "metadata": {},
     "output_type": "execute_result"
    }
   ],
   "source": [
    "# Split string column into two new columns\n",
    "df[['State', 'State Code']] = df.Location.str.split(\",\", expand = True)\n",
    "df.head()"
   ]
  },
  {
   "cell_type": "code",
   "execution_count": 26,
   "metadata": {},
   "outputs": [
    {
     "data": {
      "text/plain": [
       "51"
      ]
     },
     "execution_count": 26,
     "metadata": {},
     "output_type": "execute_result"
    }
   ],
   "source": [
    "df[\"State Code\"].nunique()"
   ]
  },
  {
   "cell_type": "code",
   "execution_count": 27,
   "metadata": {},
   "outputs": [],
   "source": [
    "df[\"State Code\"]=df[\"State Code\"].str.strip(\" \")"
   ]
  },
  {
   "cell_type": "code",
   "execution_count": 28,
   "metadata": {},
   "outputs": [
    {
     "name": "stdout",
     "output_type": "stream",
     "text": [
      "                                    Tuition and fees\n",
      "Name                                                \n",
      "Stevens Institute of Technology              48838.0\n",
      "Princeton University                         45320.0\n",
      "Seton Hall University                        39258.0\n",
      "New Jersey Institute of Technology           30326.0\n",
      "Rutgers University--New Brunswick            30023.0\n",
      "Rutgers University--Newark                   29480.0\n",
      "Montclair State University                   20318.0\n",
      "----------------------------------------------\n",
      "                                    In-state\n",
      "Name                                        \n",
      "New Jersey Institute of Technology   16108.0\n",
      "Rutgers University--New Brunswick    14372.0\n",
      "Rutgers University--Newark           13829.0\n",
      "Montclair State University           11771.0\n",
      "Princeton University                  6273.0\n",
      "Seton Hall University                 6273.0\n",
      "Stevens Institute of Technology       6273.0\n",
      "----------------------------------------------\n",
      "                                    Undergrad Enrollment\n",
      "Name                                                    \n",
      "Rutgers University--New Brunswick                35484.0\n",
      "Montclair State University                       16336.0\n",
      "New Jersey Institute of Technology                8008.0\n",
      "Rutgers University--Newark                        7713.0\n",
      "Seton Hall University                             6090.0\n",
      "Princeton University                              5402.0\n",
      "Stevens Institute of Technology                   2873.0\n"
     ]
    }
   ],
   "source": [
    "# Viewing the features of schools per state\n",
    "nj = df[df[\"State Code\"]==\"NJ\"]\n",
    "nj_tuition = pd.DataFrame(nj.groupby(\"Name\").agg({\"Tuition and fees\":\"mean\"}).sort_values(\"Tuition and fees\",ascending=False))\n",
    "nj_instate = pd.DataFrame(nj.groupby(\"Name\").agg({\"In-state\":\"mean\"}).sort_values(\"In-state\",ascending=False))\n",
    "nj_enroll = pd.DataFrame(nj.groupby(\"Name\").agg({\"Undergrad Enrollment\":\"mean\"}).sort_values(\"Undergrad Enrollment\",ascending=False))\n",
    "print(nj_tuition)\n",
    "print(\"----------------------------------------------\")\n",
    "print(nj_instate)\n",
    "print(\"----------------------------------------------\")\n",
    "print(nj_enroll)"
   ]
  },
  {
   "cell_type": "code",
   "execution_count": 30,
   "metadata": {},
   "outputs": [
    {
     "data": {
      "text/html": [
       "<div>\n",
       "<style scoped>\n",
       "    .dataframe tbody tr th:only-of-type {\n",
       "        vertical-align: middle;\n",
       "    }\n",
       "\n",
       "    .dataframe tbody tr th {\n",
       "        vertical-align: top;\n",
       "    }\n",
       "\n",
       "    .dataframe thead th {\n",
       "        text-align: right;\n",
       "    }\n",
       "</style>\n",
       "<table border=\"1\" class=\"dataframe\">\n",
       "  <thead>\n",
       "    <tr style=\"text-align: right;\">\n",
       "      <th></th>\n",
       "      <th>Tuition and fees</th>\n",
       "    </tr>\n",
       "    <tr>\n",
       "      <th>Name</th>\n",
       "      <th></th>\n",
       "    </tr>\n",
       "  </thead>\n",
       "  <tbody>\n",
       "    <tr>\n",
       "      <th>Stevens Institute of Technology</th>\n",
       "      <td>48838.0</td>\n",
       "    </tr>\n",
       "    <tr>\n",
       "      <th>Princeton University</th>\n",
       "      <td>45320.0</td>\n",
       "    </tr>\n",
       "  </tbody>\n",
       "</table>\n",
       "</div>"
      ],
      "text/plain": [
       "                                 Tuition and fees\n",
       "Name                                             \n",
       "Stevens Institute of Technology           48838.0\n",
       "Princeton University                      45320.0"
      ]
     },
     "execution_count": 30,
     "metadata": {},
     "output_type": "execute_result"
    }
   ],
   "source": [
    "nj_tuition.head(2)"
   ]
  },
  {
   "cell_type": "code",
   "execution_count": null,
   "metadata": {},
   "outputs": [],
   "source": []
  },
  {
   "cell_type": "code",
   "execution_count": 31,
   "metadata": {},
   "outputs": [],
   "source": [
    "# function to view feature reports of schools in each state\n",
    "def show_report(state_code):\n",
    "    state_df = df[df[\"State Code\"]==state_code]\n",
    "    tuition = pd.DataFrame(state_df.groupby(\"Name\").agg({\"Tuition and fees\":\"mean\"}).sort_values(\"Tuition and fees\",ascending=False))\n",
    "    instate = pd.DataFrame(state_df.groupby(\"Name\").agg({\"In-state\":\"mean\"}).sort_values(\"In-state\",ascending=False))\n",
    "    enroll = pd.DataFrame(state_df.groupby(\"Name\").agg({\"Undergrad Enrollment\":\"mean\"}).sort_values(\"Undergrad Enrollment\",ascending=False))\n",
    "    print(tuition)\n",
    "    print(\"-------------------------------------------------------\")\n",
    "    print(instate)\n",
    "    print(\"-------------------------------------------------------\")\n",
    "    print(enroll)\n",
    "    "
   ]
  },
  {
   "cell_type": "code",
   "execution_count": 32,
   "metadata": {},
   "outputs": [
    {
     "name": "stdout",
     "output_type": "stream",
     "text": [
      "                           Tuition and fees\n",
      "Name                                       \n",
      "Yale University                     49480.0\n",
      "University of Hartford              37790.0\n",
      "University of Connecticut           35858.0\n",
      "-------------------------------------------------------\n",
      "                           In-state\n",
      "Name                               \n",
      "University of Connecticut   14066.0\n",
      "University of Hartford       6273.0\n",
      "Yale University              6273.0\n",
      "-------------------------------------------------------\n",
      "                           Undergrad Enrollment\n",
      "Name                                           \n",
      "University of Connecticut               18826.0\n",
      "Yale University                          5532.0\n",
      "University of Hartford                   5246.0\n"
     ]
    }
   ],
   "source": [
    "show_report(\"CT\")"
   ]
  },
  {
   "cell_type": "code",
   "execution_count": 33,
   "metadata": {},
   "outputs": [
    {
     "name": "stdout",
     "output_type": "stream",
     "text": [
      "                                          Tuition and fees\n",
      "Name                                                      \n",
      "University of Chicago                              52491.0\n",
      "Northwestern University                            50855.0\n",
      "Illinois Institute of Technology                   45214.0\n",
      "Loyola University Chicago                          41384.0\n",
      "DePaul University                                  37626.0\n",
      "Benedictine University                             32170.0\n",
      "University of Illinois--Urbana-Champaign           31320.0\n",
      "Southern Illinois University--Carbondale           27130.0\n",
      "University of Illinois--Chicago                    26526.0\n",
      "Northern Illinois University                       23799.0\n",
      "Illinois State University                          20886.0\n",
      "-------------------------------------------------------\n",
      "                                          In-state\n",
      "Name                                              \n",
      "University of Illinois--Urbana-Champaign   15698.0\n",
      "Northern Illinois University               14334.0\n",
      "University of Illinois--Chicago            13670.0\n",
      "Southern Illinois University--Carbondale   13481.0\n",
      "Illinois State University                  13296.0\n",
      "Benedictine University                      6273.0\n",
      "DePaul University                           6273.0\n",
      "Illinois Institute of Technology            6273.0\n",
      "Loyola University Chicago                   6273.0\n",
      "Northwestern University                     6273.0\n",
      "University of Chicago                       6273.0\n",
      "-------------------------------------------------------\n",
      "                                          Undergrad Enrollment\n",
      "Name                                                          \n",
      "University of Illinois--Urbana-Champaign               33368.0\n",
      "Illinois State University                              18426.0\n",
      "University of Illinois--Chicago                        17575.0\n",
      "DePaul University                                      15961.0\n",
      "Northern Illinois University                           15027.0\n",
      "Southern Illinois University--Carbondale               13031.0\n",
      "Loyola University Chicago                              11079.0\n",
      "Northwestern University                                 8314.0\n",
      "University of Chicago                                   5844.0\n",
      "Benedictine University                                  3347.0\n",
      "Illinois Institute of Technology                        2991.0\n"
     ]
    }
   ],
   "source": [
    "show_report(\"IL\")"
   ]
  },
  {
   "cell_type": "code",
   "execution_count": null,
   "metadata": {},
   "outputs": [],
   "source": []
  }
 ],
 "metadata": {
  "kernelspec": {
   "display_name": "Python 3 (ipykernel)",
   "language": "python",
   "name": "python3"
  },
  "language_info": {
   "codemirror_mode": {
    "name": "ipython",
    "version": 3
   },
   "file_extension": ".py",
   "mimetype": "text/x-python",
   "name": "python",
   "nbconvert_exporter": "python",
   "pygments_lexer": "ipython3",
   "version": "3.10.9"
  }
 },
 "nbformat": 4,
 "nbformat_minor": 2
}
