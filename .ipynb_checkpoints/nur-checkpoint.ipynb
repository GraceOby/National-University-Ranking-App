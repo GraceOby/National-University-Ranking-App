{
 "cells": [
  {
   "cell_type": "code",
   "execution_count": 2,
   "metadata": {},
   "outputs": [],
   "source": [
    "import pandas as pd"
   ]
  },
  {
   "cell_type": "code",
   "execution_count": 3,
   "metadata": {},
   "outputs": [
    {
     "data": {
      "text/plain": [
       "(231, 7)"
      ]
     },
     "execution_count": 3,
     "metadata": {},
     "output_type": "execute_result"
    }
   ],
   "source": [
    "nur = pd.read_csv(\"National Universities Rankings.csv\", index_col=0)\n",
    "nur.shape"
   ]
  },
  {
   "cell_type": "markdown",
   "metadata": {},
   "source": [
    "ROUGH OUTLINE\n",
    "1. extract the state short code from location\n",
    "2. extract the year founded from description\n",
    "3. clean up the fees, in-state and enrollment columns\n",
    "4. clean up the columns names\n",
    "\n",
    "* 51 states\n",
    "\n",
    "5. seperate each state schools\n",
    "6. each state will be a table of it's own in the database for database optimization\n",
    "7. create a state table\n",
    "8. can rank school inside each state based on enrollment\n",
    "\n",
    "-- EDA\n",
    "\n",
    "9. Top school based on rank, tuition fees, instate fees, and enrollment\n",
    "10. Top 2 schools within 56 states\n",
    "11. oldest schools based on year founded\n",
    "12. oldest school within 51 states\n",
    "\n",
    "-- App interface\n",
    "\n",
    "13. A brief overview with visuals from top school based on rank (overall)\n",
    "14. selection box to select state. Once selected, brief overview with a visual of the top school in that state.\n",
    "* Overview will include details based on the available data like average tuition and top ranked school.\n",
    "15. Another section where we take in input from the user to recommend a movie within a choosen state.\n",
    "16. If no state is choosen, we recommend based on the user location, and closest state.\n",
    "* For closest state, we can do some resear to know which state is closer to each other (Feature engineering)  \n"
   ]
  },
  {
   "cell_type": "code",
   "execution_count": 4,
   "metadata": {},
   "outputs": [
    {
     "data": {
      "text/html": [
       "<div>\n",
       "<style scoped>\n",
       "    .dataframe tbody tr th:only-of-type {\n",
       "        vertical-align: middle;\n",
       "    }\n",
       "\n",
       "    .dataframe tbody tr th {\n",
       "        vertical-align: top;\n",
       "    }\n",
       "\n",
       "    .dataframe thead th {\n",
       "        text-align: right;\n",
       "    }\n",
       "</style>\n",
       "<table border=\"1\" class=\"dataframe\">\n",
       "  <thead>\n",
       "    <tr style=\"text-align: right;\">\n",
       "      <th></th>\n",
       "      <th>Name</th>\n",
       "      <th>Location</th>\n",
       "      <th>Rank</th>\n",
       "      <th>Description</th>\n",
       "      <th>Tuition and fees</th>\n",
       "      <th>In-state</th>\n",
       "      <th>Undergrad Enrollment</th>\n",
       "    </tr>\n",
       "    <tr>\n",
       "      <th>index</th>\n",
       "      <th></th>\n",
       "      <th></th>\n",
       "      <th></th>\n",
       "      <th></th>\n",
       "      <th></th>\n",
       "      <th></th>\n",
       "      <th></th>\n",
       "    </tr>\n",
       "  </thead>\n",
       "  <tbody>\n",
       "    <tr>\n",
       "      <th>11</th>\n",
       "      <td>California Institute of Technology</td>\n",
       "      <td>Pasadena, CA</td>\n",
       "      <td>12</td>\n",
       "      <td>Caltech, which focuses on science and engineer...</td>\n",
       "      <td>$47,577</td>\n",
       "      <td>NaN</td>\n",
       "      <td>1,001</td>\n",
       "    </tr>\n",
       "    <tr>\n",
       "      <th>164</th>\n",
       "      <td>Maryville University of St. Louis</td>\n",
       "      <td>St Louis, MO</td>\n",
       "      <td>164</td>\n",
       "      <td>Founded in 1872, Maryville University of St. L...</td>\n",
       "      <td>$27,958</td>\n",
       "      <td>NaN</td>\n",
       "      <td>2,795</td>\n",
       "    </tr>\n",
       "    <tr>\n",
       "      <th>157</th>\n",
       "      <td>University of Massachusetts--Lowell</td>\n",
       "      <td>Lowell, MA</td>\n",
       "      <td>152</td>\n",
       "      <td>Founded in 1894, University of Massachusetts--...</td>\n",
       "      <td>$29,125</td>\n",
       "      <td>$13,427</td>\n",
       "      <td>13,266</td>\n",
       "    </tr>\n",
       "    <tr>\n",
       "      <th>206</th>\n",
       "      <td>University of North Carolina--Charlotte</td>\n",
       "      <td>Charlotte, NC</td>\n",
       "      <td>202</td>\n",
       "      <td>Founded in 1946, University of North Carolina-...</td>\n",
       "      <td>$20,193</td>\n",
       "      <td>$6,617</td>\n",
       "      <td>22,732</td>\n",
       "    </tr>\n",
       "    <tr>\n",
       "      <th>219</th>\n",
       "      <td>Benedictine University</td>\n",
       "      <td>Lisle, IL</td>\n",
       "      <td>220</td>\n",
       "      <td>Founded in 1887, Benedictine University is a p...</td>\n",
       "      <td>$32,170</td>\n",
       "      <td>NaN</td>\n",
       "      <td>3,347</td>\n",
       "    </tr>\n",
       "    <tr>\n",
       "      <th>5</th>\n",
       "      <td>Stanford University</td>\n",
       "      <td>Stanford, CA</td>\n",
       "      <td>5</td>\n",
       "      <td>Stanford University's pristine campus is locat...</td>\n",
       "      <td>$47,940</td>\n",
       "      <td>NaN</td>\n",
       "      <td>6,999</td>\n",
       "    </tr>\n",
       "    <tr>\n",
       "      <th>121</th>\n",
       "      <td>University of Kansas</td>\n",
       "      <td>Lawrence, KS</td>\n",
       "      <td>118</td>\n",
       "      <td>Founded in 1865, University of Kansas is a pub...</td>\n",
       "      <td>$25,932</td>\n",
       "      <td>$10,549</td>\n",
       "      <td>19,245</td>\n",
       "    </tr>\n",
       "    <tr>\n",
       "      <th>0</th>\n",
       "      <td>Princeton University</td>\n",
       "      <td>Princeton, NJ</td>\n",
       "      <td>1</td>\n",
       "      <td>Princeton, the fourth-oldest college in the Un...</td>\n",
       "      <td>$45,320</td>\n",
       "      <td>NaN</td>\n",
       "      <td>5,402</td>\n",
       "    </tr>\n",
       "    <tr>\n",
       "      <th>123</th>\n",
       "      <td>The Catholic University of America</td>\n",
       "      <td>Washington, DC</td>\n",
       "      <td>124</td>\n",
       "      <td>Catholic University of America, as its name su...</td>\n",
       "      <td>$42,536</td>\n",
       "      <td>NaN</td>\n",
       "      <td>3,480</td>\n",
       "    </tr>\n",
       "    <tr>\n",
       "      <th>8</th>\n",
       "      <td>University of Pennsylvania</td>\n",
       "      <td>Philadelphia, PA</td>\n",
       "      <td>8</td>\n",
       "      <td>The University of Pennsylvania, located in Phi...</td>\n",
       "      <td>$51,464</td>\n",
       "      <td>NaN</td>\n",
       "      <td>9,726</td>\n",
       "    </tr>\n",
       "    <tr>\n",
       "      <th>220</th>\n",
       "      <td>California State University--Fresno</td>\n",
       "      <td>Fresno, CA</td>\n",
       "      <td>220</td>\n",
       "      <td>California State University--Fresno is located...</td>\n",
       "      <td>$17,209</td>\n",
       "      <td>$6,313</td>\n",
       "      <td>21,482</td>\n",
       "    </tr>\n",
       "    <tr>\n",
       "      <th>49</th>\n",
       "      <td>Pepperdine University</td>\n",
       "      <td>Malibu, CA</td>\n",
       "      <td>50</td>\n",
       "      <td>Squeezed in among the Santa Monica Mountain fo...</td>\n",
       "      <td>$50,022</td>\n",
       "      <td>NaN</td>\n",
       "      <td>3,533</td>\n",
       "    </tr>\n",
       "    <tr>\n",
       "      <th>162</th>\n",
       "      <td>University of South Florida</td>\n",
       "      <td>Tampa, FL</td>\n",
       "      <td>159</td>\n",
       "      <td>The University of South Florida, or USF, as it...</td>\n",
       "      <td>$17,325</td>\n",
       "      <td>$6,410</td>\n",
       "      <td>31,111</td>\n",
       "    </tr>\n",
       "    <tr>\n",
       "      <th>125</th>\n",
       "      <td>Duquesne University</td>\n",
       "      <td>Pittsburgh, PA</td>\n",
       "      <td>124</td>\n",
       "      <td>Founded in 1878, Duquesne University is a priv...</td>\n",
       "      <td>$35,062</td>\n",
       "      <td>NaN</td>\n",
       "      <td>5,961</td>\n",
       "    </tr>\n",
       "    <tr>\n",
       "      <th>120</th>\n",
       "      <td>University of California--Riverside</td>\n",
       "      <td>Riverside, CA</td>\n",
       "      <td>118</td>\n",
       "      <td>Despite its setting in Southern California, UC...</td>\n",
       "      <td>$40,263</td>\n",
       "      <td>$13,581</td>\n",
       "      <td>18,608</td>\n",
       "    </tr>\n",
       "    <tr>\n",
       "      <th>139</th>\n",
       "      <td>University of Arkansas</td>\n",
       "      <td>Fayetteville, AR</td>\n",
       "      <td>135</td>\n",
       "      <td>The University of Arkansas, or U of A, is a pu...</td>\n",
       "      <td>$23,168</td>\n",
       "      <td>$8,820</td>\n",
       "      <td>22,159</td>\n",
       "    </tr>\n",
       "    <tr>\n",
       "      <th>9</th>\n",
       "      <td>Johns Hopkins University</td>\n",
       "      <td>Baltimore, MD</td>\n",
       "      <td>10</td>\n",
       "      <td>Johns Hopkins University has four main campuse...</td>\n",
       "      <td>$50,410</td>\n",
       "      <td>NaN</td>\n",
       "      <td>6,524</td>\n",
       "    </tr>\n",
       "    <tr>\n",
       "      <th>91</th>\n",
       "      <td>Florida State University</td>\n",
       "      <td>Tallahassee, FL</td>\n",
       "      <td>92</td>\n",
       "      <td>Florida State University is a sprawling public...</td>\n",
       "      <td>$24,673</td>\n",
       "      <td>$9,507</td>\n",
       "      <td>32,706</td>\n",
       "    </tr>\n",
       "    <tr>\n",
       "      <th>81</th>\n",
       "      <td>Colorado School of Mines</td>\n",
       "      <td>Golden, CO</td>\n",
       "      <td>82</td>\n",
       "      <td>For students who want to work in the sciences,...</td>\n",
       "      <td>$34,828</td>\n",
       "      <td>$17,383</td>\n",
       "      <td>4,608</td>\n",
       "    </tr>\n",
       "    <tr>\n",
       "      <th>201</th>\n",
       "      <td>California State University--Fullerton</td>\n",
       "      <td>Fullerton, CA</td>\n",
       "      <td>202</td>\n",
       "      <td>California State University--Fullerton (CSUF) ...</td>\n",
       "      <td>$17,596</td>\n",
       "      <td>$6,436</td>\n",
       "      <td>33,144</td>\n",
       "    </tr>\n",
       "  </tbody>\n",
       "</table>\n",
       "</div>"
      ],
      "text/plain": [
       "                                          Name          Location  Rank  \\\n",
       "index                                                                    \n",
       "11          California Institute of Technology      Pasadena, CA    12   \n",
       "164          Maryville University of St. Louis      St Louis, MO   164   \n",
       "157        University of Massachusetts--Lowell        Lowell, MA   152   \n",
       "206    University of North Carolina--Charlotte     Charlotte, NC   202   \n",
       "219                     Benedictine University         Lisle, IL   220   \n",
       "5                          Stanford University      Stanford, CA     5   \n",
       "121                       University of Kansas      Lawrence, KS   118   \n",
       "0                         Princeton University     Princeton, NJ     1   \n",
       "123         The Catholic University of America    Washington, DC   124   \n",
       "8                   University of Pennsylvania  Philadelphia, PA     8   \n",
       "220        California State University--Fresno        Fresno, CA   220   \n",
       "49                       Pepperdine University        Malibu, CA    50   \n",
       "162                University of South Florida         Tampa, FL   159   \n",
       "125                        Duquesne University    Pittsburgh, PA   124   \n",
       "120        University of California--Riverside     Riverside, CA   118   \n",
       "139                     University of Arkansas  Fayetteville, AR   135   \n",
       "9                     Johns Hopkins University     Baltimore, MD    10   \n",
       "91                    Florida State University   Tallahassee, FL    92   \n",
       "81                    Colorado School of Mines        Golden, CO    82   \n",
       "201     California State University--Fullerton     Fullerton, CA   202   \n",
       "\n",
       "                                             Description Tuition and fees  \\\n",
       "index                                                                       \n",
       "11     Caltech, which focuses on science and engineer...         $47,577    \n",
       "164    Founded in 1872, Maryville University of St. L...         $27,958    \n",
       "157    Founded in 1894, University of Massachusetts--...         $29,125    \n",
       "206    Founded in 1946, University of North Carolina-...         $20,193    \n",
       "219    Founded in 1887, Benedictine University is a p...         $32,170    \n",
       "5      Stanford University's pristine campus is locat...         $47,940    \n",
       "121    Founded in 1865, University of Kansas is a pub...         $25,932    \n",
       "0      Princeton, the fourth-oldest college in the Un...         $45,320    \n",
       "123    Catholic University of America, as its name su...         $42,536    \n",
       "8      The University of Pennsylvania, located in Phi...         $51,464    \n",
       "220    California State University--Fresno is located...         $17,209    \n",
       "49     Squeezed in among the Santa Monica Mountain fo...         $50,022    \n",
       "162    The University of South Florida, or USF, as it...         $17,325    \n",
       "125    Founded in 1878, Duquesne University is a priv...         $35,062    \n",
       "120    Despite its setting in Southern California, UC...         $40,263    \n",
       "139    The University of Arkansas, or U of A, is a pu...         $23,168    \n",
       "9      Johns Hopkins University has four main campuse...         $50,410    \n",
       "91     Florida State University is a sprawling public...         $24,673    \n",
       "81     For students who want to work in the sciences,...         $34,828    \n",
       "201    California State University--Fullerton (CSUF) ...         $17,596    \n",
       "\n",
       "       In-state Undergrad Enrollment  \n",
       "index                                 \n",
       "11          NaN                1,001  \n",
       "164         NaN                2,795  \n",
       "157    $13,427                13,266  \n",
       "206     $6,617                22,732  \n",
       "219         NaN                3,347  \n",
       "5           NaN                6,999  \n",
       "121    $10,549                19,245  \n",
       "0           NaN                5,402  \n",
       "123         NaN                3,480  \n",
       "8           NaN                9,726  \n",
       "220     $6,313                21,482  \n",
       "49          NaN                3,533  \n",
       "162     $6,410                31,111  \n",
       "125         NaN                5,961  \n",
       "120    $13,581                18,608  \n",
       "139     $8,820                22,159  \n",
       "9           NaN                6,524  \n",
       "91      $9,507                32,706  \n",
       "81     $17,383                 4,608  \n",
       "201     $6,436                33,144  "
      ]
     },
     "execution_count": 4,
     "metadata": {},
     "output_type": "execute_result"
    }
   ],
   "source": [
    "nur.sample(20)"
   ]
  },
  {
   "cell_type": "code",
   "execution_count": 5,
   "metadata": {},
   "outputs": [
    {
     "data": {
      "text/plain": [
       "array([' NJ', ' MA', ' IL', ' CT', ' NY', ' CA', ' NC', ' PA', ' MD',\n",
       "       ' NH', ' RI', ' TX', ' IN', ' TN', ' MO', ' GA', ' DC', ' VA',\n",
       "       ' MI', ' OH', ' LA', ' FL', ' WI', ' WA', ' SC', ' UT', ' MN',\n",
       "       ' DE', ' CO', ' IA', ' OK', ' VT', ' AL', ' OR', ' NE', ' KS',\n",
       "       ' AZ', ' KY', ' AR', ' MS', ' HI', ' ID', ' WY', ' NM', ' ME',\n",
       "       ' WV', ' ND', ' NV', ' SD', ' AK', ' MT'], dtype=object)"
      ]
     },
     "execution_count": 5,
     "metadata": {},
     "output_type": "execute_result"
    }
   ],
   "source": [
    "nur['Location'].apply(lambda x: x.split(',')[1]).unique()"
   ]
  },
  {
   "cell_type": "code",
   "execution_count": 6,
   "metadata": {},
   "outputs": [
    {
     "data": {
      "text/plain": [
       "51"
      ]
     },
     "execution_count": 6,
     "metadata": {},
     "output_type": "execute_result"
    }
   ],
   "source": [
    "len(nur['Location'].apply(lambda x: x.split(',')[1]).unique())"
   ]
  },
  {
   "cell_type": "code",
   "execution_count": 75,
   "metadata": {},
   "outputs": [],
   "source": [
    "# # Get the unique values in each column\n",
    "# unique_values = {}\n",
    "# for column in nur.columns:\n",
    "#     unique_values[column] = nur[column].unique()\n",
    "\n",
    "# # Print the unique values\n",
    "# for column, values in unique_values.items():\n",
    "#     print(f\"Unique values in column '{column}':\")\n",
    "#     print(values)\n",
    "#     print()\n"
   ]
  },
  {
   "cell_type": "code",
   "execution_count": 8,
   "metadata": {},
   "outputs": [],
   "source": [
    "df = nur.copy()"
   ]
  },
  {
   "cell_type": "code",
   "execution_count": 9,
   "metadata": {},
   "outputs": [
    {
     "data": {
      "text/html": [
       "<div>\n",
       "<style scoped>\n",
       "    .dataframe tbody tr th:only-of-type {\n",
       "        vertical-align: middle;\n",
       "    }\n",
       "\n",
       "    .dataframe tbody tr th {\n",
       "        vertical-align: top;\n",
       "    }\n",
       "\n",
       "    .dataframe thead th {\n",
       "        text-align: right;\n",
       "    }\n",
       "</style>\n",
       "<table border=\"1\" class=\"dataframe\">\n",
       "  <thead>\n",
       "    <tr style=\"text-align: right;\">\n",
       "      <th></th>\n",
       "      <th>Name</th>\n",
       "      <th>Location</th>\n",
       "      <th>Rank</th>\n",
       "      <th>Description</th>\n",
       "      <th>Tuition and fees</th>\n",
       "      <th>In-state</th>\n",
       "      <th>Undergrad Enrollment</th>\n",
       "    </tr>\n",
       "    <tr>\n",
       "      <th>index</th>\n",
       "      <th></th>\n",
       "      <th></th>\n",
       "      <th></th>\n",
       "      <th></th>\n",
       "      <th></th>\n",
       "      <th></th>\n",
       "      <th></th>\n",
       "    </tr>\n",
       "  </thead>\n",
       "  <tbody>\n",
       "    <tr>\n",
       "      <th>0</th>\n",
       "      <td>Princeton University</td>\n",
       "      <td>Princeton, NJ</td>\n",
       "      <td>1</td>\n",
       "      <td>Princeton, the fourth-oldest college in the Un...</td>\n",
       "      <td>$45,320</td>\n",
       "      <td>NaN</td>\n",
       "      <td>5,402</td>\n",
       "    </tr>\n",
       "    <tr>\n",
       "      <th>1</th>\n",
       "      <td>Harvard University</td>\n",
       "      <td>Cambridge, MA</td>\n",
       "      <td>2</td>\n",
       "      <td>Harvard is located in Cambridge, Massachusetts...</td>\n",
       "      <td>$47,074</td>\n",
       "      <td>NaN</td>\n",
       "      <td>6,699</td>\n",
       "    </tr>\n",
       "    <tr>\n",
       "      <th>2</th>\n",
       "      <td>University of Chicago</td>\n",
       "      <td>Chicago, IL</td>\n",
       "      <td>3</td>\n",
       "      <td>The University of Chicago, situated in Chicago...</td>\n",
       "      <td>$52,491</td>\n",
       "      <td>NaN</td>\n",
       "      <td>5,844</td>\n",
       "    </tr>\n",
       "    <tr>\n",
       "      <th>3</th>\n",
       "      <td>Yale University</td>\n",
       "      <td>New Haven, CT</td>\n",
       "      <td>3</td>\n",
       "      <td>Yale University, located in New Haven, Connect...</td>\n",
       "      <td>$49,480</td>\n",
       "      <td>NaN</td>\n",
       "      <td>5,532</td>\n",
       "    </tr>\n",
       "    <tr>\n",
       "      <th>4</th>\n",
       "      <td>Columbia University</td>\n",
       "      <td>New York, NY</td>\n",
       "      <td>5</td>\n",
       "      <td>Columbia University, located in Manhattan's Mo...</td>\n",
       "      <td>$55,056</td>\n",
       "      <td>NaN</td>\n",
       "      <td>6,102</td>\n",
       "    </tr>\n",
       "  </tbody>\n",
       "</table>\n",
       "</div>"
      ],
      "text/plain": [
       "                        Name       Location  Rank  \\\n",
       "index                                               \n",
       "0       Princeton University  Princeton, NJ     1   \n",
       "1         Harvard University  Cambridge, MA     2   \n",
       "2      University of Chicago    Chicago, IL     3   \n",
       "3            Yale University  New Haven, CT     3   \n",
       "4        Columbia University   New York, NY     5   \n",
       "\n",
       "                                             Description Tuition and fees  \\\n",
       "index                                                                       \n",
       "0      Princeton, the fourth-oldest college in the Un...         $45,320    \n",
       "1      Harvard is located in Cambridge, Massachusetts...         $47,074    \n",
       "2      The University of Chicago, situated in Chicago...         $52,491    \n",
       "3      Yale University, located in New Haven, Connect...         $49,480    \n",
       "4      Columbia University, located in Manhattan's Mo...         $55,056    \n",
       "\n",
       "      In-state Undergrad Enrollment  \n",
       "index                                \n",
       "0          NaN                5,402  \n",
       "1          NaN                6,699  \n",
       "2          NaN                5,844  \n",
       "3          NaN                5,532  \n",
       "4          NaN                6,102  "
      ]
     },
     "execution_count": 9,
     "metadata": {},
     "output_type": "execute_result"
    }
   ],
   "source": [
    "df.head()"
   ]
  },
  {
   "cell_type": "code",
   "execution_count": 10,
   "metadata": {},
   "outputs": [
    {
     "data": {
      "text/plain": [
       "Name                    231\n",
       "Location                192\n",
       "Rank                     63\n",
       "Description             231\n",
       "Tuition and fees        230\n",
       "In-state                132\n",
       "Undergrad Enrollment    230\n",
       "dtype: int64"
      ]
     },
     "execution_count": 10,
     "metadata": {},
     "output_type": "execute_result"
    }
   ],
   "source": [
    "df.nunique()"
   ]
  },
  {
   "cell_type": "markdown",
   "metadata": {},
   "source": [
    "### Data Cleaning"
   ]
  },
  {
   "cell_type": "code",
   "execution_count": 11,
   "metadata": {},
   "outputs": [
    {
     "data": {
      "text/plain": [
       "Name                     0\n",
       "Location                 0\n",
       "Rank                     0\n",
       "Description              0\n",
       "Tuition and fees         0\n",
       "In-state                98\n",
       "Undergrad Enrollment     0\n",
       "dtype: int64"
      ]
     },
     "execution_count": 11,
     "metadata": {},
     "output_type": "execute_result"
    }
   ],
   "source": [
    "df.isnull().sum(axis=0)"
   ]
  },
  {
   "cell_type": "markdown",
   "metadata": {},
   "source": [
    "The in-state column shows the tuition fee for in-sate students therefore we replace missing values here with the mean fee."
   ]
  },
  {
   "cell_type": "code",
   "execution_count": 12,
   "metadata": {},
   "outputs": [
    {
     "data": {
      "text/plain": [
       "array([nan, '$13,509 ', '$12,836 ', '$15,722 ', '$13,856 ', '$8,834 ',\n",
       "       '$18,687 ', '$12,212 ', '$14,022 ', '$14,750 ', '$14,046 ',\n",
       "       '$14,705 ', '$15,698 ', '$10,488 ', '$6,389 ', '$17,900 ',\n",
       "       '$10,037 ', '$10,753 ', '$11,634 ', '$9,806 ', '$10,002 ',\n",
       "       '$14,066 ', '$10,181 ', '$14,240 ', '$18,618 ', '$14,372 ',\n",
       "       '$13,790 ', '$10,176 ', '$12,852 ', '$14,288 ', '$13,559 ',\n",
       "       '$12,520 ', '$17,383 ', '$14,070 ', '$8,325 ', '$9,044 ',\n",
       "       '$10,388 ', '$9,507 ', '$8,880 ', '$11,531 ', '$17,300 ',\n",
       "       '$9,026 ', '$10,696 ', '$7,770 ', '$9,770 ', '$10,470 ',\n",
       "       '$10,762 ', '$12,668 ', '$17,624 ', '$11,854 ', '$7,969 ',\n",
       "       '$9,518 ', '$8,628 ', '$8,065 ', '$8,518 ', '$14,634 ', '$15,688 ',\n",
       "       '$13,581 ', '$10,549 ', '$10,872 ', '$10,158 ', '$11,080 ',\n",
       "       '$11,484 ', '$9,350 ', '$9,842 ', '$16,108 ', '$13,829 ',\n",
       "       '$8,820 ', '$11,000 ', '$7,744 ', '$11,300 ', '$10,366 ',\n",
       "       '$11,041 ', '$11,744 ', '$7,084 ', '$9,124 ', '$12,162 ',\n",
       "       '$13,296 ', '$7,778 ', '$13,262 ', '$13,670 ', '$13,427 ',\n",
       "       '$7,766 ', '$11,264 ', '$12,862 ', '$6,410 ', '$9,628 ',\n",
       "       '$13,076 ', '$11,732 ', '$7,232 ', '$10,738 ', '$5,055 ',\n",
       "       '$9,654 ', '$7,502 ', '$11,771 ', '$10,622 ', '$6,368 ', '$7,071 ',\n",
       "       '$10,628 ', '$7,632 ', '$10,012 ', '$9,046 ', '$10,796 ',\n",
       "       '$10,710 ', '$11,029 ', '$9,205 ', '$9,128 ', '$10,404 ',\n",
       "       '$7,142 ', '$6,436 ', '$12,150 ', '$8,853 ', '$8,172 ', '$7,799 ',\n",
       "       '$6,617 ', '$4,965 ', '$8,457 ', '$6,946 ', '$7,031 ', '$10,048 ',\n",
       "       '$9,551 ', '$14,334 ', '$13,481 ', '$6,446 ', '$6,313 ', '$6,729 ',\n",
       "       '$16,311 ', '$13,435 ', '$12,588 ', '$10,065 ', '$6,733 ',\n",
       "       '$7,224 ', '$6,866 '], dtype=object)"
      ]
     },
     "execution_count": 12,
     "metadata": {},
     "output_type": "execute_result"
    }
   ],
   "source": [
    "df[\"In-state\"].unique()"
   ]
  },
  {
   "cell_type": "code",
   "execution_count": 13,
   "metadata": {},
   "outputs": [
    {
     "data": {
      "text/plain": [
       "Name                    object\n",
       "Location                object\n",
       "Rank                     int64\n",
       "Description             object\n",
       "Tuition and fees        object\n",
       "In-state                object\n",
       "Undergrad Enrollment    object\n",
       "dtype: object"
      ]
     },
     "execution_count": 13,
     "metadata": {},
     "output_type": "execute_result"
    }
   ],
   "source": [
    "df.dtypes"
   ]
  },
  {
   "cell_type": "markdown",
   "metadata": {},
   "source": [
    "The \"Tuition and fees\" and \"In-state\" features are of the wrong data types and carry symbols, \n",
    "* first replace $ signs and commas \n",
    "* Put 0 as placeholder for NaN values\n",
    "* Convert to integer dtype\n",
    "* replace 0's with mean"
   ]
  },
  {
   "cell_type": "code",
   "execution_count": 14,
   "metadata": {},
   "outputs": [
    {
     "data": {
      "text/html": [
       "<div>\n",
       "<style scoped>\n",
       "    .dataframe tbody tr th:only-of-type {\n",
       "        vertical-align: middle;\n",
       "    }\n",
       "\n",
       "    .dataframe tbody tr th {\n",
       "        vertical-align: top;\n",
       "    }\n",
       "\n",
       "    .dataframe thead th {\n",
       "        text-align: right;\n",
       "    }\n",
       "</style>\n",
       "<table border=\"1\" class=\"dataframe\">\n",
       "  <thead>\n",
       "    <tr style=\"text-align: right;\">\n",
       "      <th></th>\n",
       "      <th>Name</th>\n",
       "      <th>Location</th>\n",
       "      <th>Rank</th>\n",
       "      <th>Description</th>\n",
       "      <th>Tuition and fees</th>\n",
       "      <th>In-state</th>\n",
       "      <th>Undergrad Enrollment</th>\n",
       "    </tr>\n",
       "    <tr>\n",
       "      <th>index</th>\n",
       "      <th></th>\n",
       "      <th></th>\n",
       "      <th></th>\n",
       "      <th></th>\n",
       "      <th></th>\n",
       "      <th></th>\n",
       "      <th></th>\n",
       "    </tr>\n",
       "  </thead>\n",
       "  <tbody>\n",
       "    <tr>\n",
       "      <th>200</th>\n",
       "      <td>University of Nevada--Reno</td>\n",
       "      <td>Reno, NV</td>\n",
       "      <td>197</td>\n",
       "      <td>The University of Nevada--Reno is located on t...</td>\n",
       "      <td>$21,052</td>\n",
       "      <td>$7,142</td>\n",
       "      <td>17,770</td>\n",
       "    </tr>\n",
       "    <tr>\n",
       "      <th>47</th>\n",
       "      <td>University of Miami</td>\n",
       "      <td>Coral Gables, FL</td>\n",
       "      <td>44</td>\n",
       "      <td>Located in Southern Florida, the University of...</td>\n",
       "      <td>$47,004</td>\n",
       "      <td>NaN</td>\n",
       "      <td>11,122</td>\n",
       "    </tr>\n",
       "    <tr>\n",
       "      <th>53</th>\n",
       "      <td>Ohio State University--Columbus</td>\n",
       "      <td>Columbus, OH</td>\n",
       "      <td>54</td>\n",
       "      <td>Located in the state capital of Columbus, The ...</td>\n",
       "      <td>$29,229</td>\n",
       "      <td>$10,037</td>\n",
       "      <td>45,289</td>\n",
       "    </tr>\n",
       "    <tr>\n",
       "      <th>186</th>\n",
       "      <td>Widener University</td>\n",
       "      <td>Chester, PA</td>\n",
       "      <td>183</td>\n",
       "      <td>Widener University is located in Chester, Penn...</td>\n",
       "      <td>$42,870</td>\n",
       "      <td>NaN</td>\n",
       "      <td>3,554</td>\n",
       "    </tr>\n",
       "    <tr>\n",
       "      <th>32</th>\n",
       "      <td>University of Rochester</td>\n",
       "      <td>Rochester, NY</td>\n",
       "      <td>32</td>\n",
       "      <td>The University of Rochester describes itself a...</td>\n",
       "      <td>$50,142</td>\n",
       "      <td>NaN</td>\n",
       "      <td>6,304</td>\n",
       "    </tr>\n",
       "  </tbody>\n",
       "</table>\n",
       "</div>"
      ],
      "text/plain": [
       "                                  Name          Location  Rank  \\\n",
       "index                                                            \n",
       "200         University of Nevada--Reno          Reno, NV   197   \n",
       "47                 University of Miami  Coral Gables, FL    44   \n",
       "53     Ohio State University--Columbus      Columbus, OH    54   \n",
       "186                 Widener University       Chester, PA   183   \n",
       "32             University of Rochester     Rochester, NY    32   \n",
       "\n",
       "                                             Description Tuition and fees  \\\n",
       "index                                                                       \n",
       "200    The University of Nevada--Reno is located on t...         $21,052    \n",
       "47     Located in Southern Florida, the University of...         $47,004    \n",
       "53     Located in the state capital of Columbus, The ...         $29,229    \n",
       "186    Widener University is located in Chester, Penn...         $42,870    \n",
       "32     The University of Rochester describes itself a...         $50,142    \n",
       "\n",
       "       In-state Undergrad Enrollment  \n",
       "index                                 \n",
       "200     $7,142                17,770  \n",
       "47          NaN               11,122  \n",
       "53     $10,037                45,289  \n",
       "186         NaN                3,554  \n",
       "32          NaN                6,304  "
      ]
     },
     "execution_count": 14,
     "metadata": {},
     "output_type": "execute_result"
    }
   ],
   "source": [
    "df.sample(5)"
   ]
  },
  {
   "cell_type": "code",
   "execution_count": 15,
   "metadata": {},
   "outputs": [],
   "source": [
    "# Remove the dollar sign ($) and commas\n",
    "df['Tuition and fees'] = df['Tuition and fees'].str.strip('$')\n",
    "df['In-state'] = df['In-state'].str.strip('$')\n",
    "\n",
    "\n",
    "df[\"Undergrad Enrollment\"] = df[\"Undergrad Enrollment\"].str.replace(',', '')\n",
    "df['Tuition and fees'] = df['Tuition and fees'].str.replace(',', '')\n",
    "df['In-state'] = df['In-state'].str.replace(',', '')"
   ]
  },
  {
   "cell_type": "code",
   "execution_count": 16,
   "metadata": {},
   "outputs": [
    {
     "data": {
      "text/html": [
       "<div>\n",
       "<style scoped>\n",
       "    .dataframe tbody tr th:only-of-type {\n",
       "        vertical-align: middle;\n",
       "    }\n",
       "\n",
       "    .dataframe tbody tr th {\n",
       "        vertical-align: top;\n",
       "    }\n",
       "\n",
       "    .dataframe thead th {\n",
       "        text-align: right;\n",
       "    }\n",
       "</style>\n",
       "<table border=\"1\" class=\"dataframe\">\n",
       "  <thead>\n",
       "    <tr style=\"text-align: right;\">\n",
       "      <th></th>\n",
       "      <th>Name</th>\n",
       "      <th>Location</th>\n",
       "      <th>Rank</th>\n",
       "      <th>Description</th>\n",
       "      <th>Tuition and fees</th>\n",
       "      <th>In-state</th>\n",
       "      <th>Undergrad Enrollment</th>\n",
       "    </tr>\n",
       "    <tr>\n",
       "      <th>index</th>\n",
       "      <th></th>\n",
       "      <th></th>\n",
       "      <th></th>\n",
       "      <th></th>\n",
       "      <th></th>\n",
       "      <th></th>\n",
       "      <th></th>\n",
       "    </tr>\n",
       "  </thead>\n",
       "  <tbody>\n",
       "    <tr>\n",
       "      <th>0</th>\n",
       "      <td>Princeton University</td>\n",
       "      <td>Princeton, NJ</td>\n",
       "      <td>1</td>\n",
       "      <td>Princeton, the fourth-oldest college in the Un...</td>\n",
       "      <td>45320</td>\n",
       "      <td>NaN</td>\n",
       "      <td>5402</td>\n",
       "    </tr>\n",
       "    <tr>\n",
       "      <th>1</th>\n",
       "      <td>Harvard University</td>\n",
       "      <td>Cambridge, MA</td>\n",
       "      <td>2</td>\n",
       "      <td>Harvard is located in Cambridge, Massachusetts...</td>\n",
       "      <td>47074</td>\n",
       "      <td>NaN</td>\n",
       "      <td>6699</td>\n",
       "    </tr>\n",
       "    <tr>\n",
       "      <th>2</th>\n",
       "      <td>University of Chicago</td>\n",
       "      <td>Chicago, IL</td>\n",
       "      <td>3</td>\n",
       "      <td>The University of Chicago, situated in Chicago...</td>\n",
       "      <td>52491</td>\n",
       "      <td>NaN</td>\n",
       "      <td>5844</td>\n",
       "    </tr>\n",
       "    <tr>\n",
       "      <th>3</th>\n",
       "      <td>Yale University</td>\n",
       "      <td>New Haven, CT</td>\n",
       "      <td>3</td>\n",
       "      <td>Yale University, located in New Haven, Connect...</td>\n",
       "      <td>49480</td>\n",
       "      <td>NaN</td>\n",
       "      <td>5532</td>\n",
       "    </tr>\n",
       "    <tr>\n",
       "      <th>4</th>\n",
       "      <td>Columbia University</td>\n",
       "      <td>New York, NY</td>\n",
       "      <td>5</td>\n",
       "      <td>Columbia University, located in Manhattan's Mo...</td>\n",
       "      <td>55056</td>\n",
       "      <td>NaN</td>\n",
       "      <td>6102</td>\n",
       "    </tr>\n",
       "  </tbody>\n",
       "</table>\n",
       "</div>"
      ],
      "text/plain": [
       "                        Name       Location  Rank  \\\n",
       "index                                               \n",
       "0       Princeton University  Princeton, NJ     1   \n",
       "1         Harvard University  Cambridge, MA     2   \n",
       "2      University of Chicago    Chicago, IL     3   \n",
       "3            Yale University  New Haven, CT     3   \n",
       "4        Columbia University   New York, NY     5   \n",
       "\n",
       "                                             Description Tuition and fees  \\\n",
       "index                                                                       \n",
       "0      Princeton, the fourth-oldest college in the Un...           45320    \n",
       "1      Harvard is located in Cambridge, Massachusetts...           47074    \n",
       "2      The University of Chicago, situated in Chicago...           52491    \n",
       "3      Yale University, located in New Haven, Connect...           49480    \n",
       "4      Columbia University, located in Manhattan's Mo...           55056    \n",
       "\n",
       "      In-state Undergrad Enrollment  \n",
       "index                                \n",
       "0          NaN                 5402  \n",
       "1          NaN                 6699  \n",
       "2          NaN                 5844  \n",
       "3          NaN                 5532  \n",
       "4          NaN                 6102  "
      ]
     },
     "execution_count": 16,
     "metadata": {},
     "output_type": "execute_result"
    }
   ],
   "source": [
    "df.head()"
   ]
  },
  {
   "cell_type": "code",
   "execution_count": 17,
   "metadata": {},
   "outputs": [
    {
     "data": {
      "text/plain": [
       "Name                    object\n",
       "Location                object\n",
       "Rank                     int64\n",
       "Description             object\n",
       "Tuition and fees        object\n",
       "In-state                object\n",
       "Undergrad Enrollment    object\n",
       "dtype: object"
      ]
     },
     "execution_count": 17,
     "metadata": {},
     "output_type": "execute_result"
    }
   ],
   "source": [
    "df.dtypes"
   ]
  },
  {
   "cell_type": "code",
   "execution_count": 18,
   "metadata": {},
   "outputs": [],
   "source": [
    "# convert the column datatype to integer\n",
    "df['In-state'] = df['In-state'].fillna('0').astype(int)\n",
    "df[\"Undergrad Enrollment\"] = df[\"Undergrad Enrollment\"].astype(int)"
   ]
  },
  {
   "cell_type": "code",
   "execution_count": 19,
   "metadata": {},
   "outputs": [
    {
     "data": {
      "text/plain": [
       "6273"
      ]
     },
     "execution_count": 19,
     "metadata": {},
     "output_type": "execute_result"
    }
   ],
   "source": [
    "mean_instate = int(df[\"In-state\"].mean())\n",
    "mean_instate"
   ]
  },
  {
   "cell_type": "code",
   "execution_count": 20,
   "metadata": {},
   "outputs": [
    {
     "data": {
      "text/plain": [
       "0"
      ]
     },
     "execution_count": 20,
     "metadata": {},
     "output_type": "execute_result"
    }
   ],
   "source": [
    "df['In-state'] = df['In-state'].replace(0, mean_instate)\n",
    "df['In-state'].isna().sum()"
   ]
  },
  {
   "cell_type": "code",
   "execution_count": 21,
   "metadata": {},
   "outputs": [
    {
     "data": {
      "text/plain": [
       "array([ 6273, 13509, 12836, 15722, 13856,  8834, 18687, 12212, 14022,\n",
       "       14750, 14046, 14705, 15698, 10488,  6389, 17900, 10037, 10753,\n",
       "       11634,  9806, 10002, 14066, 10181, 14240, 18618, 14372, 13790,\n",
       "       10176, 12852, 14288, 13559, 12520, 17383, 14070,  8325,  9044,\n",
       "       10388,  9507,  8880, 11531, 17300,  9026, 10696,  7770,  9770,\n",
       "       10470, 10762, 12668, 17624, 11854,  7969,  9518,  8628,  8065,\n",
       "        8518, 14634, 15688, 13581, 10549, 10872, 10158, 11080, 11484,\n",
       "        9350,  9842, 16108, 13829,  8820, 11000,  7744, 11300, 10366,\n",
       "       11041, 11744,  7084,  9124, 12162, 13296,  7778, 13262, 13670,\n",
       "       13427,  7766, 11264, 12862,  6410,  9628, 13076, 11732,  7232,\n",
       "       10738,  5055,  9654,  7502, 11771, 10622,  6368,  7071, 10628,\n",
       "        7632, 10012,  9046, 10796, 10710, 11029,  9205,  9128, 10404,\n",
       "        7142,  6436, 12150,  8853,  8172,  7799,  6617,  4965,  8457,\n",
       "        6946,  7031, 10048,  9551, 14334, 13481,  6446,  6313,  6729,\n",
       "       16311, 13435, 12588, 10065,  6733,  7224,  6866])"
      ]
     },
     "execution_count": 21,
     "metadata": {},
     "output_type": "execute_result"
    }
   ],
   "source": [
    "df[\"In-state\"].unique()"
   ]
  },
  {
   "cell_type": "code",
   "execution_count": 22,
   "metadata": {},
   "outputs": [
    {
     "data": {
      "text/plain": [
       "Name                    98\n",
       "Location                98\n",
       "Rank                    98\n",
       "Description             98\n",
       "Tuition and fees        98\n",
       "In-state                98\n",
       "Undergrad Enrollment    98\n",
       "dtype: int64"
      ]
     },
     "execution_count": 22,
     "metadata": {},
     "output_type": "execute_result"
    }
   ],
   "source": [
    "# Confirming that only 98 values were replaced with the mean\n",
    "df[df[\"In-state\"]==6273].count()"
   ]
  },
  {
   "cell_type": "code",
   "execution_count": 23,
   "metadata": {},
   "outputs": [
    {
     "data": {
      "text/plain": [
       "Name                    object\n",
       "Location                object\n",
       "Rank                     int64\n",
       "Description             object\n",
       "Tuition and fees        object\n",
       "In-state                 int64\n",
       "Undergrad Enrollment     int64\n",
       "dtype: object"
      ]
     },
     "execution_count": 23,
     "metadata": {},
     "output_type": "execute_result"
    }
   ],
   "source": [
    "df.dtypes"
   ]
  },
  {
   "cell_type": "code",
   "execution_count": 24,
   "metadata": {},
   "outputs": [
    {
     "data": {
      "text/plain": [
       "dtype('int64')"
      ]
     },
     "execution_count": 24,
     "metadata": {},
     "output_type": "execute_result"
    }
   ],
   "source": [
    "df[\"Tuition and fees\"] = df[\"Tuition and fees\"].astype(int)\n",
    "df[\"Tuition and fees\"].dtype"
   ]
  },
  {
   "cell_type": "code",
   "execution_count": 25,
   "metadata": {},
   "outputs": [
    {
     "data": {
      "text/html": [
       "<div>\n",
       "<style scoped>\n",
       "    .dataframe tbody tr th:only-of-type {\n",
       "        vertical-align: middle;\n",
       "    }\n",
       "\n",
       "    .dataframe tbody tr th {\n",
       "        vertical-align: top;\n",
       "    }\n",
       "\n",
       "    .dataframe thead th {\n",
       "        text-align: right;\n",
       "    }\n",
       "</style>\n",
       "<table border=\"1\" class=\"dataframe\">\n",
       "  <thead>\n",
       "    <tr style=\"text-align: right;\">\n",
       "      <th></th>\n",
       "      <th>Name</th>\n",
       "      <th>Location</th>\n",
       "      <th>Rank</th>\n",
       "      <th>Description</th>\n",
       "      <th>Tuition and fees</th>\n",
       "      <th>In-state</th>\n",
       "      <th>Undergrad Enrollment</th>\n",
       "    </tr>\n",
       "    <tr>\n",
       "      <th>index</th>\n",
       "      <th></th>\n",
       "      <th></th>\n",
       "      <th></th>\n",
       "      <th></th>\n",
       "      <th></th>\n",
       "      <th></th>\n",
       "      <th></th>\n",
       "    </tr>\n",
       "  </thead>\n",
       "  <tbody>\n",
       "    <tr>\n",
       "      <th>93</th>\n",
       "      <td>University of Colorado--Boulder</td>\n",
       "      <td>Boulder, CO</td>\n",
       "      <td>92</td>\n",
       "      <td>The University of Colorado Boulder, called CUŒ...</td>\n",
       "      <td>35079</td>\n",
       "      <td>11531</td>\n",
       "      <td>27010</td>\n",
       "    </tr>\n",
       "    <tr>\n",
       "      <th>84</th>\n",
       "      <td>University of Iowa</td>\n",
       "      <td>Iowa City, IA</td>\n",
       "      <td>82</td>\n",
       "      <td>The University of Iowa offers top-notch academ...</td>\n",
       "      <td>28413</td>\n",
       "      <td>8325</td>\n",
       "      <td>23357</td>\n",
       "    </tr>\n",
       "    <tr>\n",
       "      <th>141</th>\n",
       "      <td>University of Mississippi</td>\n",
       "      <td>University, MS</td>\n",
       "      <td>135</td>\n",
       "      <td>The University of Mississippi, better known as...</td>\n",
       "      <td>22012</td>\n",
       "      <td>7744</td>\n",
       "      <td>18785</td>\n",
       "    </tr>\n",
       "    <tr>\n",
       "      <th>83</th>\n",
       "      <td>Texas Christian University</td>\n",
       "      <td>Fort Worth, TX</td>\n",
       "      <td>82</td>\n",
       "      <td>Texas Christian University is the biggest reli...</td>\n",
       "      <td>42670</td>\n",
       "      <td>6273</td>\n",
       "      <td>8894</td>\n",
       "    </tr>\n",
       "    <tr>\n",
       "      <th>200</th>\n",
       "      <td>University of Nevada--Reno</td>\n",
       "      <td>Reno, NV</td>\n",
       "      <td>197</td>\n",
       "      <td>The University of Nevada--Reno is located on t...</td>\n",
       "      <td>21052</td>\n",
       "      <td>7142</td>\n",
       "      <td>17770</td>\n",
       "    </tr>\n",
       "  </tbody>\n",
       "</table>\n",
       "</div>"
      ],
      "text/plain": [
       "                                  Name        Location  Rank  \\\n",
       "index                                                          \n",
       "93     University of Colorado--Boulder     Boulder, CO    92   \n",
       "84                  University of Iowa   Iowa City, IA    82   \n",
       "141          University of Mississippi  University, MS   135   \n",
       "83          Texas Christian University  Fort Worth, TX    82   \n",
       "200         University of Nevada--Reno        Reno, NV   197   \n",
       "\n",
       "                                             Description  Tuition and fees  \\\n",
       "index                                                                        \n",
       "93     The University of Colorado Boulder, called CUŒ...             35079   \n",
       "84     The University of Iowa offers top-notch academ...             28413   \n",
       "141    The University of Mississippi, better known as...             22012   \n",
       "83     Texas Christian University is the biggest reli...             42670   \n",
       "200    The University of Nevada--Reno is located on t...             21052   \n",
       "\n",
       "       In-state  Undergrad Enrollment  \n",
       "index                                  \n",
       "93        11531                 27010  \n",
       "84         8325                 23357  \n",
       "141        7744                 18785  \n",
       "83         6273                  8894  \n",
       "200        7142                 17770  "
      ]
     },
     "execution_count": 25,
     "metadata": {},
     "output_type": "execute_result"
    }
   ],
   "source": [
    "df.sample(5)"
   ]
  },
  {
   "cell_type": "markdown",
   "metadata": {},
   "source": [
    "### Feature Engineering"
   ]
  },
  {
   "cell_type": "code",
   "execution_count": 26,
   "metadata": {},
   "outputs": [
    {
     "data": {
      "text/html": [
       "<div>\n",
       "<style scoped>\n",
       "    .dataframe tbody tr th:only-of-type {\n",
       "        vertical-align: middle;\n",
       "    }\n",
       "\n",
       "    .dataframe tbody tr th {\n",
       "        vertical-align: top;\n",
       "    }\n",
       "\n",
       "    .dataframe thead th {\n",
       "        text-align: right;\n",
       "    }\n",
       "</style>\n",
       "<table border=\"1\" class=\"dataframe\">\n",
       "  <thead>\n",
       "    <tr style=\"text-align: right;\">\n",
       "      <th></th>\n",
       "      <th>Name</th>\n",
       "      <th>Location</th>\n",
       "      <th>Rank</th>\n",
       "      <th>Description</th>\n",
       "      <th>Tuition and fees</th>\n",
       "      <th>In-state</th>\n",
       "      <th>Undergrad Enrollment</th>\n",
       "      <th>State</th>\n",
       "      <th>State Code</th>\n",
       "    </tr>\n",
       "    <tr>\n",
       "      <th>index</th>\n",
       "      <th></th>\n",
       "      <th></th>\n",
       "      <th></th>\n",
       "      <th></th>\n",
       "      <th></th>\n",
       "      <th></th>\n",
       "      <th></th>\n",
       "      <th></th>\n",
       "      <th></th>\n",
       "    </tr>\n",
       "  </thead>\n",
       "  <tbody>\n",
       "    <tr>\n",
       "      <th>0</th>\n",
       "      <td>Princeton University</td>\n",
       "      <td>Princeton, NJ</td>\n",
       "      <td>1</td>\n",
       "      <td>Princeton, the fourth-oldest college in the Un...</td>\n",
       "      <td>45320</td>\n",
       "      <td>6273</td>\n",
       "      <td>5402</td>\n",
       "      <td>Princeton</td>\n",
       "      <td>NJ</td>\n",
       "    </tr>\n",
       "    <tr>\n",
       "      <th>1</th>\n",
       "      <td>Harvard University</td>\n",
       "      <td>Cambridge, MA</td>\n",
       "      <td>2</td>\n",
       "      <td>Harvard is located in Cambridge, Massachusetts...</td>\n",
       "      <td>47074</td>\n",
       "      <td>6273</td>\n",
       "      <td>6699</td>\n",
       "      <td>Cambridge</td>\n",
       "      <td>MA</td>\n",
       "    </tr>\n",
       "    <tr>\n",
       "      <th>2</th>\n",
       "      <td>University of Chicago</td>\n",
       "      <td>Chicago, IL</td>\n",
       "      <td>3</td>\n",
       "      <td>The University of Chicago, situated in Chicago...</td>\n",
       "      <td>52491</td>\n",
       "      <td>6273</td>\n",
       "      <td>5844</td>\n",
       "      <td>Chicago</td>\n",
       "      <td>IL</td>\n",
       "    </tr>\n",
       "    <tr>\n",
       "      <th>3</th>\n",
       "      <td>Yale University</td>\n",
       "      <td>New Haven, CT</td>\n",
       "      <td>3</td>\n",
       "      <td>Yale University, located in New Haven, Connect...</td>\n",
       "      <td>49480</td>\n",
       "      <td>6273</td>\n",
       "      <td>5532</td>\n",
       "      <td>New Haven</td>\n",
       "      <td>CT</td>\n",
       "    </tr>\n",
       "    <tr>\n",
       "      <th>4</th>\n",
       "      <td>Columbia University</td>\n",
       "      <td>New York, NY</td>\n",
       "      <td>5</td>\n",
       "      <td>Columbia University, located in Manhattan's Mo...</td>\n",
       "      <td>55056</td>\n",
       "      <td>6273</td>\n",
       "      <td>6102</td>\n",
       "      <td>New York</td>\n",
       "      <td>NY</td>\n",
       "    </tr>\n",
       "  </tbody>\n",
       "</table>\n",
       "</div>"
      ],
      "text/plain": [
       "                        Name       Location  Rank  \\\n",
       "index                                               \n",
       "0       Princeton University  Princeton, NJ     1   \n",
       "1         Harvard University  Cambridge, MA     2   \n",
       "2      University of Chicago    Chicago, IL     3   \n",
       "3            Yale University  New Haven, CT     3   \n",
       "4        Columbia University   New York, NY     5   \n",
       "\n",
       "                                             Description  Tuition and fees  \\\n",
       "index                                                                        \n",
       "0      Princeton, the fourth-oldest college in the Un...             45320   \n",
       "1      Harvard is located in Cambridge, Massachusetts...             47074   \n",
       "2      The University of Chicago, situated in Chicago...             52491   \n",
       "3      Yale University, located in New Haven, Connect...             49480   \n",
       "4      Columbia University, located in Manhattan's Mo...             55056   \n",
       "\n",
       "       In-state  Undergrad Enrollment      State State Code  \n",
       "index                                                        \n",
       "0          6273                  5402  Princeton         NJ  \n",
       "1          6273                  6699  Cambridge         MA  \n",
       "2          6273                  5844    Chicago         IL  \n",
       "3          6273                  5532  New Haven         CT  \n",
       "4          6273                  6102   New York         NY  "
      ]
     },
     "execution_count": 26,
     "metadata": {},
     "output_type": "execute_result"
    }
   ],
   "source": [
    "# Split string column into two new columns\n",
    "df[['State', 'State Code']] = df.Location.str.split(\",\", expand = True)\n",
    "df.head()"
   ]
  },
  {
   "cell_type": "code",
   "execution_count": 28,
   "metadata": {},
   "outputs": [
    {
     "data": {
      "text/plain": [
       "51"
      ]
     },
     "execution_count": 28,
     "metadata": {},
     "output_type": "execute_result"
    }
   ],
   "source": [
    "df[\"State Code\"].nunique()"
   ]
  },
  {
   "cell_type": "code",
   "execution_count": 33,
   "metadata": {},
   "outputs": [],
   "source": [
    "df[\"State Code\"]=df[\"State Code\"].str.strip(\" \")"
   ]
  },
  {
   "cell_type": "code",
   "execution_count": 62,
   "metadata": {},
   "outputs": [
    {
     "name": "stdout",
     "output_type": "stream",
     "text": [
      "                                    Tuition and fees\n",
      "Name                                                \n",
      "Stevens Institute of Technology              48838.0\n",
      "Princeton University                         45320.0\n",
      "Seton Hall University                        39258.0\n",
      "New Jersey Institute of Technology           30326.0\n",
      "Rutgers University--New Brunswick            30023.0\n",
      "Rutgers University--Newark                   29480.0\n",
      "Montclair State University                   20318.0\n",
      "----------------------------------------------\n",
      "                                    In-state\n",
      "Name                                        \n",
      "New Jersey Institute of Technology   16108.0\n",
      "Rutgers University--New Brunswick    14372.0\n",
      "Rutgers University--Newark           13829.0\n",
      "Montclair State University           11771.0\n",
      "Princeton University                  6273.0\n",
      "Seton Hall University                 6273.0\n",
      "Stevens Institute of Technology       6273.0\n",
      "----------------------------------------------\n",
      "                                    Undergrad Enrollment\n",
      "Name                                                    \n",
      "Rutgers University--New Brunswick                35484.0\n",
      "Montclair State University                       16336.0\n",
      "New Jersey Institute of Technology                8008.0\n",
      "Rutgers University--Newark                        7713.0\n",
      "Seton Hall University                             6090.0\n",
      "Princeton University                              5402.0\n",
      "Stevens Institute of Technology                   2873.0\n"
     ]
    }
   ],
   "source": [
    "# Viewing the features of schools per state\n",
    "nj = df[df[\"State Code\"]==\"NJ\"]\n",
    "nj_tuition = pd.DataFrame(nj.groupby(\"Name\").agg({\"Tuition and fees\":\"mean\"}).sort_values(\"Tuition and fees\",ascending=False))\n",
    "nj_instate = pd.DataFrame(nj.groupby(\"Name\").agg({\"In-state\":\"mean\"}).sort_values(\"In-state\",ascending=False))\n",
    "nj_enroll = pd.DataFrame(nj.groupby(\"Name\").agg({\"Undergrad Enrollment\":\"mean\"}).sort_values(\"Undergrad Enrollment\",ascending=False))\n",
    "print(nj_tuition)\n",
    "print(\"----------------------------------------------\")\n",
    "print(nj_instate)\n",
    "print(\"----------------------------------------------\")\n",
    "print(nj_enroll)"
   ]
  },
  {
   "cell_type": "code",
   "execution_count": 60,
   "metadata": {},
   "outputs": [
    {
     "data": {
      "text/html": [
       "<div>\n",
       "<style scoped>\n",
       "    .dataframe tbody tr th:only-of-type {\n",
       "        vertical-align: middle;\n",
       "    }\n",
       "\n",
       "    .dataframe tbody tr th {\n",
       "        vertical-align: top;\n",
       "    }\n",
       "\n",
       "    .dataframe thead th {\n",
       "        text-align: right;\n",
       "    }\n",
       "</style>\n",
       "<table border=\"1\" class=\"dataframe\">\n",
       "  <thead>\n",
       "    <tr style=\"text-align: right;\">\n",
       "      <th></th>\n",
       "      <th>Tuition and fees</th>\n",
       "    </tr>\n",
       "    <tr>\n",
       "      <th>Name</th>\n",
       "      <th></th>\n",
       "    </tr>\n",
       "  </thead>\n",
       "  <tbody>\n",
       "    <tr>\n",
       "      <th>Stevens Institute of Technology</th>\n",
       "      <td>48838.0</td>\n",
       "    </tr>\n",
       "    <tr>\n",
       "      <th>Princeton University</th>\n",
       "      <td>45320.0</td>\n",
       "    </tr>\n",
       "  </tbody>\n",
       "</table>\n",
       "</div>"
      ],
      "text/plain": [
       "                                 Tuition and fees\n",
       "Name                                             \n",
       "Stevens Institute of Technology           48838.0\n",
       "Princeton University                      45320.0"
      ]
     },
     "execution_count": 60,
     "metadata": {},
     "output_type": "execute_result"
    }
   ],
   "source": [
    "a.head(2)"
   ]
  },
  {
   "cell_type": "code",
   "execution_count": null,
   "metadata": {},
   "outputs": [],
   "source": []
  },
  {
   "cell_type": "code",
   "execution_count": 72,
   "metadata": {},
   "outputs": [],
   "source": [
    "# function to view feature reports of schools in each state\n",
    "def show_report(state_code):\n",
    "    state_df = df[df[\"State Code\"]==state_code]\n",
    "    tuition = pd.DataFrame(state_df.groupby(\"Name\").agg({\"Tuition and fees\":\"mean\"}).sort_values(\"Tuition and fees\",ascending=False))\n",
    "    instate = pd.DataFrame(state_df.groupby(\"Name\").agg({\"In-state\":\"mean\"}).sort_values(\"In-state\",ascending=False))\n",
    "    enroll = pd.DataFrame(state_df.groupby(\"Name\").agg({\"Undergrad Enrollment\":\"mean\"}).sort_values(\"Undergrad Enrollment\",ascending=False))\n",
    "    print(tuition)\n",
    "    print(\"-------------------------------------------------------\")\n",
    "    print(instate)\n",
    "    print(\"-------------------------------------------------------\")\n",
    "    print(enroll)\n",
    "    "
   ]
  },
  {
   "cell_type": "code",
   "execution_count": 73,
   "metadata": {},
   "outputs": [
    {
     "name": "stdout",
     "output_type": "stream",
     "text": [
      "                           Tuition and fees\n",
      "Name                                       \n",
      "Yale University                     49480.0\n",
      "University of Hartford              37790.0\n",
      "University of Connecticut           35858.0\n",
      "-------------------------------------------------------\n",
      "                           In-state\n",
      "Name                               \n",
      "University of Connecticut   14066.0\n",
      "University of Hartford       6273.0\n",
      "Yale University              6273.0\n",
      "-------------------------------------------------------\n",
      "                           Undergrad Enrollment\n",
      "Name                                           \n",
      "University of Connecticut               18826.0\n",
      "Yale University                          5532.0\n",
      "University of Hartford                   5246.0\n"
     ]
    }
   ],
   "source": [
    "show_report(\"CT\")"
   ]
  },
  {
   "cell_type": "code",
   "execution_count": 74,
   "metadata": {},
   "outputs": [
    {
     "name": "stdout",
     "output_type": "stream",
     "text": [
      "                                          Tuition and fees\n",
      "Name                                                      \n",
      "University of Chicago                              52491.0\n",
      "Northwestern University                            50855.0\n",
      "Illinois Institute of Technology                   45214.0\n",
      "Loyola University Chicago                          41384.0\n",
      "DePaul University                                  37626.0\n",
      "Benedictine University                             32170.0\n",
      "University of Illinois--Urbana-Champaign           31320.0\n",
      "Southern Illinois University--Carbondale           27130.0\n",
      "University of Illinois--Chicago                    26526.0\n",
      "Northern Illinois University                       23799.0\n",
      "Illinois State University                          20886.0\n",
      "-------------------------------------------------------\n",
      "                                          In-state\n",
      "Name                                              \n",
      "University of Illinois--Urbana-Champaign   15698.0\n",
      "Northern Illinois University               14334.0\n",
      "University of Illinois--Chicago            13670.0\n",
      "Southern Illinois University--Carbondale   13481.0\n",
      "Illinois State University                  13296.0\n",
      "Benedictine University                      6273.0\n",
      "DePaul University                           6273.0\n",
      "Illinois Institute of Technology            6273.0\n",
      "Loyola University Chicago                   6273.0\n",
      "Northwestern University                     6273.0\n",
      "University of Chicago                       6273.0\n",
      "-------------------------------------------------------\n",
      "                                          Undergrad Enrollment\n",
      "Name                                                          \n",
      "University of Illinois--Urbana-Champaign               33368.0\n",
      "Illinois State University                              18426.0\n",
      "University of Illinois--Chicago                        17575.0\n",
      "DePaul University                                      15961.0\n",
      "Northern Illinois University                           15027.0\n",
      "Southern Illinois University--Carbondale               13031.0\n",
      "Loyola University Chicago                              11079.0\n",
      "Northwestern University                                 8314.0\n",
      "University of Chicago                                   5844.0\n",
      "Benedictine University                                  3347.0\n",
      "Illinois Institute of Technology                        2991.0\n"
     ]
    }
   ],
   "source": [
    "show_report(\"IL\")"
   ]
  },
  {
   "cell_type": "code",
   "execution_count": null,
   "metadata": {},
   "outputs": [],
   "source": []
  }
 ],
 "metadata": {
  "kernelspec": {
   "display_name": "Python 3 (ipykernel)",
   "language": "python",
   "name": "python3"
  },
  "language_info": {
   "codemirror_mode": {
    "name": "ipython",
    "version": 3
   },
   "file_extension": ".py",
   "mimetype": "text/x-python",
   "name": "python",
   "nbconvert_exporter": "python",
   "pygments_lexer": "ipython3",
   "version": "3.10.9"
  }
 },
 "nbformat": 4,
 "nbformat_minor": 2
}
